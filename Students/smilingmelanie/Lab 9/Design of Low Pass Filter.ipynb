{
 "cells": [
  {
   "cell_type": "markdown",
   "metadata": {},
   "source": [
    "# Design of Low Pass Filter\n",
    "This lab follows the design of a low pass filter implemented in ANSYS circuit simulator. After verification of the design, parameters are transferred to be implemented into HFSS for further simulation preceding fabrication. The first design implements a maximally flat low-pass filter with a cutoff frequency of 2.5GHz and minimum attenuation of 10dB at 3.25 GHz. This particular design will be implemented in microstrip using a charcateristic impedance of 50 ohms so that it could be fabricated on a 62 mil thick FR4 substrate.\n",
    "\n",
    "### Step 1 (Calulate the filter order N)\n",
    "Using the formula and the charts below, the order N of the filter is calculated. <img src=\"formula1.png\"> \n",
    "<img src=\"figure2.png\">\n",
    "<img src=\"figure3.png\">\n",
    "### Step 2 (Design the LC circuit)\n",
    "Now it is time to assemble the LC ladder network in the ANSYS circuit simulator. For this particular case, there were N=5 filter coefficients. \n",
    "The LC network can be simplified using the table below: <img src=\"figure5.png\"> After performing the appropriate impedance and frequency scaling on the lumped elements, it is ready to be implemented into ANSYS: <img src=\"figure4.png\"> By looking at the plots of magnitude and phase, the design can be verified accordingly.\n",
    "### Step 3 (Moving from an LC circuit to Stubs)\n",
    "Capacitors will be converted into open circuit stubs and the inductors will be converted into short circuit stubs using Richard's transformation: <img src=\"figure6.png\">\n",
    "### Step 4 Kuroda's identities\n",
    "Kuroda's identities are essential for conversion of series stubs to shunt stubs. Thankfully, this isn't too bad because of symmetry. It is only neccessary to transform one side then apply to the other. Beginning at the load/source, solve towards the center element (which in this case is a shunt open-circuit stub, so it will remain as is).\n",
    "##### Unit elements ue1 and ue2 are inserted on the source/loads of the circuit to seperate z1 from z2 and z5 from z4.\n",
    "\n",
    "<img src=\"figurec.png\">\n",
    "##### Now, unit elements ue3 and ue4 are inserted on the source/loads of the circuit. This is replicated the previous proccess to first seperate z2 from z3 and z4 from z3. This will also seperate z4 from z5 and z1 from z2. This proccess converts z1,z2,z4, and z5 into shunt open-circuit stubs.\n",
    "<img src=\"figured.png\">\n",
    "##### Once again, we perform impedance scaling for the transmission line. \n",
    "<img src=\"figuree.png\">\n",
    "\n",
    "After a sequential proccess of conversion and scaling, the design in ANSYS circuit simulator looks like this:\n",
    "<img src=\"LPFSTUB.png\">\n",
    "Wow! Look at that symmetry! Once again, verify results on the magnitude and phase plots.\n",
    "#### Verification of results:\n",
    "By right clicking analysis on your circuit simualtions, you can extract the .sNp files from your simulations. Plot all of these in python simulataneously using scikitrf to verify.\n",
    "<img src=\"LPF_magnitude.png\">\n",
    "<img src=\"LPFfigures.png\">\n",
    "\n",
    "### Step 5: Implement in HFSS\n",
    "After converting the design from LC to stub in Ansys and verifying results, it is now time to implement the design in HFSS! \n",
    "In doing so, there are a couple of things to keep in mind: it is a MUST that your design/simulation parameters remain the same as in ANSYS so that you hae multiple sources of verification.\n",
    "##### Substrate : FR4_epoxy, Microstrip: Copper (Finite Conductivity Sheets), and there is a vaccum boundary. \n",
    "<img src=\"figure_lowpass_stub.png\">\n",
    "### Verified?\n",
    "Cutoff frequency of 2.5GHz and minimum attenuation of 10dB at 3.25 GHz?\n",
    "#### WOWZA! That looks pretty good! :-)\n",
    "<img src=\"LPF_results.png\">\n"
   ]
  },
  {
   "cell_type": "code",
   "execution_count": null,
   "metadata": {
    "collapsed": true
   },
   "outputs": [],
   "source": []
  },
  {
   "cell_type": "code",
   "execution_count": null,
   "metadata": {
    "collapsed": true
   },
   "outputs": [],
   "source": []
  },
  {
   "cell_type": "code",
   "execution_count": null,
   "metadata": {
    "collapsed": true
   },
   "outputs": [],
   "source": []
  },
  {
   "cell_type": "code",
   "execution_count": null,
   "metadata": {
    "collapsed": true
   },
   "outputs": [],
   "source": []
  }
 ],
 "metadata": {
  "kernelspec": {
   "display_name": "Python 3",
   "language": "python",
   "name": "python3"
  },
  "language_info": {
   "codemirror_mode": {
    "name": "ipython",
    "version": 3
   },
   "file_extension": ".py",
   "mimetype": "text/x-python",
   "name": "python",
   "nbconvert_exporter": "python",
   "pygments_lexer": "ipython3",
   "version": "3.6.3"
  }
 },
 "nbformat": 4,
 "nbformat_minor": 2
}
