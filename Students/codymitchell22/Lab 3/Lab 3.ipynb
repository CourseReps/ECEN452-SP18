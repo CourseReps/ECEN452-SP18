{
 "cells": [
  {
   "cell_type": "markdown",
   "metadata": {},
   "source": [
    "# Lab 3: Introduction to RF, Microwave, and Millimeter-Wave Measurments"
   ]
  },
  {
   "cell_type": "markdown",
   "metadata": {},
   "source": [
    "## Background\n",
    "\n",
    "![drawing.png](drawing.png)\n",
    "\n",
    "As you know, 2-port networks have four S-parameters, the reflection coefficients being S11, S22, and the transmission coefficients S21, S12. In general, S21 is the measurement of the complex output/Input transfer function. Complex means that it represents both gain (or insertion loss) and phase relationship between the input and the output signals.  As shown in the equations below, gain is referred to as a positive number, and insertion loss is negative; both are typically expressed in dB.  The third equation is he phase response of the network. In this lab, our main focus will be on the phase response of the system, rather than the magnitude response. In regard to S21, the phase defines how much shift occurs for each frequency.\n",
    "![equation1.png](equation1.png)\n",
    "![equation1.png](equation2.png)\n",
    "![equation1.png](equation3.png)\n"
   ]
  },
  {
   "cell_type": "markdown",
   "metadata": {},
   "source": [
    "## Design\n",
    "\n",
    "For this lab we will take measurments of your TRL kit you designed first in the ANSYS Electronic Desktop and then in HFSS. \n",
    "\n",
    "![thrucircuit.png](thrucircuit.png) \n",
    "Thru deisgn from Electronics Desktop\n",
    "\n",
    "![THRU.png](THRU.png) \n",
    "Thru design from HFSS\n",
    "\n",
    "Tip: When designing your wave ports, make them large enough to ensure proper computing of S-Parameter. You can do so by following a similar method as the equations I used, seen below in \"Properties.\" \n",
    "![properties.png](properties.png) \n",
    "A correctly sized wave port will have a field like the one shown here.\n",
    "![field.png](field.png)  \n",
    "\n",
    "\n",
    "Tip: You can confirm that your integration lines are in the same direction for both of your wave ports by checking them under \"Excitations\" in the Project Manager.\n",
    "\n",
    "![excitation1.png](excitation1.png)![excitation2.png](excitation2.png) \n",
    "                  "
   ]
  },
  {
   "cell_type": "markdown",
   "metadata": {},
   "source": [
    "## Measurments in ANSYS\n",
    "\n",
    "Frequency Sweep using a linear count from 2 GHz to 4.5 GHz\n",
    "\n",
    "![phase_plot.PNG](phase_plot.PNG)\n",
    "Phase Plot from Electronics Desktop\n",
    "\n",
    "![hfss_phase_plot.PNG](hfss_phase_plot.PNG)\n",
    "Phase Plot from HFSS"
   ]
  },
  {
   "cell_type": "markdown",
   "metadata": {},
   "source": [
    "Now, to verfiy our results we obtained from the simulations we got from ANSYS, we will use a python package for RF measurements and simulations is the package scikit-rf or skrf. This lab is based of the assumption that you already have installed skrf on your device. The implementation of the skrf package is as follows."
   ]
  },
  {
   "cell_type": "code",
   "execution_count": null,
   "metadata": {},
   "outputs": [],
   "source": []
  },
  {
   "cell_type": "code",
   "execution_count": 26,
   "metadata": {},
   "outputs": [
    {
     "name": "stderr",
     "output_type": "stream",
     "text": [
      "/anaconda3/lib/python3.6/site-packages/skrf/calibration/calibration.py:2016: UserWarning: No switch terms provided\n",
      "  warn('No switch terms provided')\n"
     ]
    }
   ],
   "source": [
    "#import all your stuff\n",
    "import skrf as rf\n",
    "from matplotlib import pyplot as plt\n",
    "from skrf.calibration import OnePort\n",
    "from skrf.calibration.calibration import TRL\n",
    "from skrf import data\n",
    "import numpy as np\n",
    "\n",
    "#import your snp files from Electronics Desktop simulation\n",
    "T = rf.Network('Lab3_thru.s2p')\n",
    "R = rf.Network('Lab3_reflect.s1p')\n",
    "L = rf.Network('Lab3_line.s2p')\n",
    "\n"
   ]
  },
  {
   "cell_type": "markdown",
   "metadata": {},
   "source": [
    "# Now we must change the R term into a s2p type, or else you will get this error\n",
    "\n",
    "\n",
    "![error.png](error.png) "
   ]
  },
  {
   "cell_type": "code",
   "execution_count": 31,
   "metadata": {},
   "outputs": [
    {
     "name": "stderr",
     "output_type": "stream",
     "text": [
      "/anaconda3/lib/python3.6/site-packages/skrf/calibration/calibration.py:2016: UserWarning: No switch terms provided\n",
      "  warn('No switch terms provided')\n"
     ]
    }
   ],
   "source": [
    "freq = rf.Frequency(2,4.5,2501,'ghz')\n",
    "S = R.s\n",
    "refl_S = 1j*np.zeros((2501,2,2)) \n",
    "refl_S[:,0,0] = S[:,0,0]\n",
    "refl = rf.Network(name='Refl', frequency=freq, s=refl_S, z0=[ 50, 50 ])\n",
    "\n",
    "#setup the TRL calibration in skrf.\n",
    "measured = [T, refl, L]\n",
    "\n",
    "trl = TRL(measured=measured)"
   ]
  },
  {
   "cell_type": "code",
   "execution_count": 32,
   "metadata": {},
   "outputs": [
    {
     "name": "stdout",
     "output_type": "stream",
     "text": [
      "Thru:  2-Port Network: 'Lab3_thru',  2.0-4.5 GHz, 2501 pts, z0=[ 50.+0.j  50.+0.j] \n",
      "\n",
      "Line:  2-Port Network: 'Lab3_line',  2.0-4.5 GHz, 2501 pts, z0=[ 50.+0.j  50.+0.j] \n",
      "\n",
      "Reflect:  1-Port Network: 'Lab3_reflect',  2.0-4.5 GHz, 2501 pts, z0=[ 50.+0.j] \n",
      "\n",
      "Reflect:  2-Port Network: 'Refl',  2.0-4.5 GHz, 2501 pts, z0=[ 50.+0.j  50.+0.j] \n",
      "\n"
     ]
    }
   ],
   "source": [
    "print(\"Thru: \", T, \"\\n\")\n",
    "print(\"Line: \", L, \"\\n\")\n",
    "print(\"Reflect: \", R, \"\\n\")\n",
    "#see how it was 1-port, now its 2-port\n",
    "print(\"Reflect: \", refl, \"\\n\")"
   ]
  },
  {
   "cell_type": "code",
   "execution_count": 33,
   "metadata": {},
   "outputs": [
    {
     "data": {
      "image/png": "[encoded data removed]",
      "text/plain": [
       "<Figure size 432x288 with 1 Axes>"
      ]
     },
     "metadata": {},
     "output_type": "display_data"
    }
   ],
   "source": [
    "dut_L = trl.apply_cal(L)\n",
    "dut_L.s12.plot_s_deg(label='Line, S21')\n",
    "plt.grid() \n",
    "plt.show()"
   ]
  },
  {
   "cell_type": "code",
   "execution_count": null,
   "metadata": {},
   "outputs": [],
   "source": []
  }
 ],
 "metadata": {
  "kernelspec": {
   "display_name": "Python 3",
   "language": "python",
   "name": "python3"
  },
  "language_info": {
   "codemirror_mode": {
    "name": "ipython",
    "version": 3
   },
   "file_extension": ".py",
   "mimetype": "text/x-python",
   "name": "python",
   "nbconvert_exporter": "python",
   "pygments_lexer": "ipython3",
   "version": "3.6.3"
  }
 },
 "nbformat": 4,
 "nbformat_minor": 2
}
