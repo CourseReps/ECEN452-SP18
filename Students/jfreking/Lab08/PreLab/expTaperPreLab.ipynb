{
 "cells": [
  {
   "cell_type": "code",
   "execution_count": 2,
   "metadata": {},
   "outputs": [],
   "source": [
    "import numpy as np\n",
    "from matplotlib import pyplot as plt\n",
    "\n",
    "freq = 2.5 #input('Frequency [GHz]: ')\n",
    "elec_l = 90 #input('Electrical Length: ')\n",
    "#z0 = input('Characteristic Impedance: ')\n",
    "h = 62 #input('Height of Dielectric Substrate [mil]: ')\n",
    "eps_r = 4.4 #input('Relative Electrical Permittivity: ')\n",
    "\n",
    "freq = float(freq)*1e9\n",
    "elec_l = float(elec_l)/360.0\n",
    "#z0 = float(z0)\n",
    "h = float(h)\n",
    "eps_r = float(eps_r)\n",
    "\n",
    "hmm = 62*0.0254\n",
    "\n",
    "c = 3e8\n",
    "lam = c/freq\n",
    "#assume a 0.7 mil thick conducting layer\n",
    "t = 0.7\n",
    "tmm = 0.7*0.0254\n",
    "\n",
    "zS = 50.0\n",
    "zL = 100.0\n",
    "\n",
    "#epsEff = (eps_r+1)/2 + (eps_r-1)/2 * (1 + 12*hmm/2.99067)**(-0.5)\n",
    "\n",
    "#print(epsEff)"
   ]
  },
  {
   "cell_type": "code",
   "execution_count": 4,
   "metadata": {},
   "outputs": [
    {
     "data": {
      "image/png": "[encoded data removed]",
      "text/plain": [
       "<matplotlib.figure.Figure at 0x89d17b8>"
      ]
     },
     "metadata": {},
     "output_type": "display_data"
    }
   ],
   "source": [
    "L = lam\n",
    "z = np.linspace(0,L,1000)\n",
    "#print(zL/zS)\n",
    "p = 2*np.pi*(z-L/2)/2\n",
    "lnZ_ = (z/L) * np.log(zL/zS) #another versino: np.log(zL)/(2*np.pi)*(p+np.pi+0.632*np.sin(p)-0.0653*np.sin(3*p))\n",
    "\n",
    "z0 = zS * np.exp(lnZ_)\n",
    "\n",
    "#print(z0)\n",
    "\n",
    "# this equation will be used as a polyline in HFSS for a tapered line\n",
    "w = ((7.48*hmm)/(np.exp(z0*np.sqrt(eps_r+1.41)/87))) - 1.25*tmm \n",
    "\n",
    "# uncomment if taking user input \n",
    "\"\"\"\n",
    "if (w/h) > 1:\n",
    "    eps_eff = (eps_r+1)/2 + (eps_r-1)/(2*np.sqrt(1+12*(h/w)))\n",
    "else:\n",
    "    eps_eff = (eps_r+1)/2 + ((eps_r-1)/2)*((1/np.sqrt(1+12*(h/w))) + 0.04*(1-w/h)**2)\n",
    "    \n",
    "phys_l = (lam/np.sqrt(eps_eff))*elec_l\n",
    "\"\"\"\n",
    "# Debugging prints:\n",
    "\n",
    "#print(\"Width: \", w, \" [mm]\")\n",
    "#print(\"Physical Length: \", phys_l*1000, \" [mm]\")\n",
    "\n",
    "plt.plot(z, w)\n",
    "plt.show()\n",
    "\n"
   ]
  },
  {
   "cell_type": "code",
   "execution_count": null,
   "metadata": {},
   "outputs": [],
   "source": []
  }
 ],
 "metadata": {
  "kernelspec": {
   "display_name": "Python 3",
   "language": "python",
   "name": "python3"
  },
  "language_info": {
   "codemirror_mode": {
    "name": "ipython",
    "version": 3
   },
   "file_extension": ".py",
   "mimetype": "text/x-python",
   "name": "python",
   "nbconvert_exporter": "python",
   "pygments_lexer": "ipython3",
   "version": "3.6.4"
  }
 },
 "nbformat": 4,
 "nbformat_minor": 2
}
