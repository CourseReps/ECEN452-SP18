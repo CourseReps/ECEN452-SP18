{
 "cells": [
  {
   "cell_type": "markdown",
   "metadata": {},
   "source": [
    "# Pre Lab 11\n",
    "\n",
    "In this lab we will look at DC biasing for RF amplifiers.\n",
    "\n",
    "DC biasing requires an RF choke/DC block to prevent RF energy from entering the DC source while allowing DC energy to power the RF amplifier. In general, the layout below shows an implementation of a DC biasing network. This layout uses a high impedance line in shunt with 50 ohm line to deliver the DC power. The high impedance line has a DC blocking capacitor to ground for the RF termination. Capacitors appear to be open circuits to DC signals, so the DC power will continue to the output of the amplifier.\n",
    "\n",
    "![AmpLayout.jpg](AmpLayout.jpg)\n"
   ]
  },
  {
   "cell_type": "markdown",
   "metadata": {},
   "source": [
    "The following figure, taken from the qorvo SGA3486DS datasheet, shows another method of DC biasing an amplifier. This method relies on an inductor between the output of the amplifier and the input DC power. Inductors work as low pass filters, passing the DC signal, and blocking the RF signal. This layout still makes use of DC blocking capacitors to give the RF signal that manages to pass through the inductor a path to ground. The input and output capacitors make sure that only RF energy enters and exits the input and output ports of the amplifier. Those capcitors prevent the DC signal from affecting other parts of the circuit.\n",
    "\n",
    "![PreLabFig1.png](PreLabFig1.png)\n"
   ]
  },
  {
   "cell_type": "markdown",
   "metadata": {},
   "source": [
    "Ground terminations require vias to ground and do not provide wide band operation. An alternative termination would be a low impedance stub. Low impedance open circuit stubs can get wide enough to be a significant number of wavelengths to be an effective short circuit. Such wide lines allow many modes to be excited on the stub, degrading the behavior of the stub. Radial stubs can provide low impedances over a wide frequency band.\n",
    "\n",
    "The input impedance of the radial stub is given by\n",
    "\n",
    "$Z_i = -jZ_0(r_{ie})cot(kr_{ie},kr_{oe})$\n",
    "\n",
    "where    \n",
    "\n",
    "$cot(kr_{ie},kr_{oe}) = \\frac{N_0(kr_{ie})J_1(kr_{oe})-J_0(kr_{oe})N_1(kr_{ie})}{J_1(kr_{ie})N_1(kr_{oe})-N_1(kr_{ie})J_1(kr_{oe})}$\n",
    "\n",
    "$Z_0(r_{ie}) = \\frac{120\\pi h}{r_{ie}\\varphi\\sqrt{\\epsilon_r}}$\n",
    "\n",
    "and the parameters are given in the figure. $J_i$ and $N_i$ are the Bessel and Neumann functions of the $i^{th}$ order.\n",
    "\n",
    "\n",
    "![PreLabFig2.png](PreLabFig2.png)\n",
    "\n",
    "A calculator for computing the expected input impedance is given below. The physical parameters can be modified to improve the performance.\n",
    "\n",
    "We will compare the use of radial stubs"
   ]
  },
  {
   "cell_type": "code",
   "execution_count": 12,
   "metadata": {},
   "outputs": [
    {
     "name": "stdout",
     "output_type": "stream",
     "text": [
      "Input design frequency (GHz): 4\n",
      "Input design dielectric: 9.7\n",
      "Input design dielectric height (mm): 0.635\n",
      "Input desired aperture angle (deg): 120\n",
      "Zin =  -3.4440199981159663j\n"
     ]
    }
   ],
   "source": [
    "import scipy as sp\n",
    "from scipy.special import j0, j1, y0, y1 #Bessel (j) and Nuemann (y) functions\n",
    "from numpy import pi, sqrt\n",
    "\n",
    "# Take user inputs for constants\n",
    "c = 3e8\n",
    "f = input('Input design frequency (GHz): ')\n",
    "f = float(f)*1e9\n",
    "epsR = input('Input design dielectric: ') #4.4\n",
    "epsR = float(epsR)\n",
    "h = input('Input design dielectric height (mm): ') #1.5748e-3\n",
    "h = float(h)\n",
    "h = h*1e-3\n",
    "phi = input('Input desired aperture angle (deg): ') #60deg\n",
    "phi = float(phi)\n",
    "phi = phi*pi/180\n",
    "\n",
    "# Calculate effective wavelength and wavenumber\n",
    "lam = c/(f*sqrt(epsR)) \n",
    "k = 2*pi/lam\n",
    "\n",
    "# These should be the effective radii, but I made the input radii ~= physical width of the microstrip line\n",
    "rie = 3.1e-3\n",
    "roe = rie + 4.7e-3 #lam/4\n",
    "\n",
    "# We need these constants for the Bessel & Neumann functions\n",
    "kro = k*roe\n",
    "kri = k*rie\n",
    "\n",
    "# Plug and chug! Thanks scipy!\n",
    "cot = (y0(kri)*j1(kro)-j0(kro)*y1(kri))/(j1(kri)*y1(kro)-y1(kri)*j1(kro))\n",
    "\n",
    "Z0 = (120*pi*h)/(rie*phi*sqrt(epsR))\n",
    "\n",
    "Zin = -1j*Z0*cot\n",
    "\n",
    "print(\"Zin = \", Zin)"
   ]
  }
 ],
 "metadata": {
  "kernelspec": {
   "display_name": "Python 3",
   "language": "python",
   "name": "python3"
  },
  "language_info": {
   "codemirror_mode": {
    "name": "ipython",
    "version": 3
   },
   "file_extension": ".py",
   "mimetype": "text/x-python",
   "name": "python",
   "nbconvert_exporter": "python",
   "pygments_lexer": "ipython3",
   "version": "3.6.4"
  }
 },
 "nbformat": 4,
 "nbformat_minor": 2
}
