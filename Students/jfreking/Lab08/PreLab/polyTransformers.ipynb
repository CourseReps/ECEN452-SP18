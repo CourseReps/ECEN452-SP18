{
 "cells": [
  {
   "cell_type": "code",
   "execution_count": 11,
   "metadata": {},
   "outputs": [],
   "source": [
    "import skrf as rf\n",
    "import numpy as np\n",
    "from numpy import polynomial as P\n",
    "from matplotlib import pyplot as plt\n",
    "\n",
    "zS = 50\n",
    "zL = 100\n"
   ]
  },
  {
   "cell_type": "code",
   "execution_count": 12,
   "metadata": {},
   "outputs": [
    {
     "name": "stdout",
     "output_type": "stream",
     "text": [
      "[[1.]\n",
      " [3.]\n",
      " [3.]\n",
      " [1.]]\n"
     ]
    }
   ],
   "source": [
    "## First calculate binomial coefficients for N = number of sections\n",
    "\n",
    "def binomialCoeff(n , k):\n",
    "\n",
    "    if k==0 or k ==n :\n",
    "        return 1\n",
    "\n",
    "    # Recursive Call\n",
    "    return binomialCoeff(n-1 , k-1) + binomialCoeff(n-1 , k)\n",
    "\n",
    "N = 3\n",
    "C = np.zeros((N+1,1))\n",
    "for k in range(N+1):\n",
    "    C[k] = binomialCoeff(N,k)\n",
    "    \n",
    "print(C)"
   ]
  },
  {
   "cell_type": "code",
   "execution_count": 15,
   "metadata": {},
   "outputs": [
    {
     "name": "stdout",
     "output_type": "stream",
     "text": [
      "Bandwidth:  71.32291844790205 %\n",
      "\n",
      "Z_k: \n",
      " [[50.        ]\n",
      " [54.52538663]\n",
      " [70.71067812]\n",
      " [91.70040432]]\n"
     ]
    }
   ],
   "source": [
    "# Maximum tolerated reflection coefficient over passband\n",
    "reflM = 0.05\n",
    "\n",
    "# Load reflection coef w/o transfomer\n",
    "reflL = (zL-zS)/(zL+zS)\n",
    "\n",
    "# Calculate BW\n",
    "A = (2**-N)*reflL\n",
    "BW = 2 - (4/np.pi)*np.arccos(0.5*(reflM/abs(A))**(1/N))\n",
    "print(\"Bandwidth: \", BW*100,\"%\\n\")\n",
    "\n",
    "# reflection coefficient at kth section\n",
    "reflK = (2**(-N)) * C * np.log(zL/zS)\n",
    "#print(reflK)\n",
    "\n",
    "Z = np.zeros((N+1,1))\n",
    "Z[0] = zS\n",
    "\n",
    "for k in range(N):\n",
    "    Z[k+1] = np.exp(np.log(Z[k])+reflK[k])\n",
    "\n",
    "print(\"Z_k: \\n\", Z)\n"
   ]
  }
 ],
 "metadata": {
  "kernelspec": {
   "display_name": "Python 3",
   "language": "python",
   "name": "python3"
  },
  "language_info": {
   "codemirror_mode": {
    "name": "ipython",
    "version": 3
   },
   "file_extension": ".py",
   "mimetype": "text/x-python",
   "name": "python",
   "nbconvert_exporter": "python",
   "pygments_lexer": "ipython3",
   "version": "3.6.4"
  }
 },
 "nbformat": 4,
 "nbformat_minor": 2
}
