{
 "cells": [
  {
   "cell_type": "markdown",
   "metadata": {},
   "source": [
    "## Etching, Milling, and Fabrication \n",
    "The purpose of this document is to go through the steps of preparation for a CAD/HFSS file to be fabricated in the milling machine. This lab focuses on converting the files from HFSS to Isopro and the neccesary proccess to go through in Isopro in preparation for \n",
    "\n",
    "\n",
    "\n",
    "#### Extracting .dxf files from HFSS\n",
    "Prior to going into Isopro for the milling machine, you will need to extract the dxf files fromy our HFSS CAD simulation. In doing this, be sure you select the sheets/layers and go to the toolbar Modeler > Export.\n",
    "<img src=\"Modeler.png\" width=\"40%\">\n",
    "The file type will be saved as an AutoCAD dxf file. In doing this,make sure you try to save all of your milling files in one folder for organization purposes and easing the transfer when you extract the files into IsoPro. \n",
    "<img src=\"Export dxf1.png\" width=\"40%\">\n",
    "\n",
    "## Using IsoPro: Milling Prep\n",
    "When you open up isopro you will see a gridded display. The large rectangle represents the working area of the milling machine.\n",
    "<img src=\"ISOPOR.png\" width=\"40%\">\n",
    "\n",
    "##### Importing .dxf files to IsoPro\n",
    "A single DXF file usually contains all the layers of a circuit board. Isopro automatically imports each embedded layer seperately. Select File -> Import -> Auto-Detect Files. A window will open and from here you will choose the files that you would like to implement into the grid. Several windows will pop up verifying the import of the dxf file. In addition, there will be a window converting the DXF units for physical implementation. Choose 1 DXF unit = 1mm. You will repeat this for each file you import until all neccessary files are placed into IsoPro.\n",
    "<img src=\"ImportIso.png\" width=\"60%\">\n",
    "\n",
    "Visually check to see if all the neccesary layers form your HFSS design are imported into IsoPro. One unique feature about the software is the ability to slect different layers for viewing, editing, or hiding. This allows for the user to select a specific piece for the design and modify it accordingly. There is no transparency viewing mode in Isopro, but there are other softwares that do enable a transparency viewing setting. Layers containing unneccesary information, like unwanted text can simply be set to \"hide.\"\n",
    "<img src=\"Iso9.png\" width=\"40%\">\n",
    "View - allows you to see the layer, but not edit the data. this is helpful when using a layer as a logical reference.\n",
    "\n",
    "Edit - allows you to modify, select, delete, mirror, and edit the data on the layer.\n",
    "\n",
    "Hide - allows you to hide the layer to prevent confusion while working on other layers.\n",
    "\n",
    " Each imported layer is seperated by color. Layers allow you to seperate different component information so you can edit one without affecting the others.\n",
    " \n",
    "##### Isolation \n",
    "You can allow yourself to set the mil settings for a particular layer and selectively isolate it from the other layers. Each vertical net should have a clean outline.  The purpose of isolation serves to outline around the pads/traces of your design so that you can procceed with fabrication.\n",
    "<img src=\"Iso1.png\" width=\"60%\">\n",
    "- Step 1: Set the status of the drill and solder layers to hide. This isn't 100% neccessary, but it can help prevent mistakes. The main point is the fact that the only layer that is being modified should be in edit mode.\n",
    "\n",
    "- Step 2: Determine the minimum clearances for pad-to-pad, pad-to-trace, and trace-to-trace distances. When you initially isolate, you do not want to exceed the maximum clearance. If you wish to manually check the the minimum clearances of your circuit/design you can use the minimum clearance function by going to the menu bar and selecting Tools-> Clearance Check. This check will automaticaaly determine the minimum clearacne on that particular layer. If there are parts on your design that fail clearance check, then they wil be highlighted and de-selected before continuing.\n",
    "<img src=\"iso2.png\" width=\"60%\">\n",
    "Step 3. By going to the toolbar, go to Tools-> Isolate. \n",
    "If the isolation path isn't completely defined around each boundary on the board, or if it is too large, the board will not be electrically correct. If this is the case,use a smaller tool size and repeat the layer isolation proccess.\n",
    "<img src=\"Iso3.png\" width=\"40%\">\n",
    "IsopPro can perform up to three different size isolations simultaneously.\n",
    "\n",
    "##### Merging Layers\n",
    "To allow for seamless milling, IsoPro has the option to merge layers together. By merging layers, you can allow for seamless milling on the machine so that the machine doesn't have to stop milling after each layer.This allows for the Auto Tool Change function to be used. Everytime the machine stops milling, it has to ask for a new tool. Merging eliminates this and can be very helpful at eliminating time barriers!\n",
    "<img src=\"LayerTable.png\" width=\"40%\">\n",
    "##### Rubout\n",
    "For RF and Microwave applications, the Rubout function proves very useful. The Rubout feature allows you to remove an area of unwanted copper in a single function. If you have an SMT component that requires rubout, you can choose a specific part of the board.\n",
    "\n",
    "- Step 1: Select the isolation layers where you want to create a rubout section to edit.\n",
    "Automatically, IsoPro selects the largest size isolation layer available in Edit mode and base the Runout pattern on the tool size.\n",
    "\n",
    "- Step 2: Click the rubout icon at the bottom right vertical bar.\n",
    "<img src=\"iso4.png\" width=\"20%\">\n",
    "- Step 3: Drag a box around the area(s), where you want to rubout the base copper. Release the mouse to activate the rubout.\n",
    "<img src=\"iso5.png\" width=\"40%\">\n",
    "The light blue highlighted area in this example shows the selection of the area for rubout. Here you will select the correct rubout tool size so that you can adequately remove the pieces of coppoer you want. \n",
    "<img src=\"iso6.png\" width=\"40%\">\n",
    "Use the cursor to select the parts of the layer you wish to remove. You can also modify the rubout area by going to the menu bar -> View -> \"Ball & Stick\" mode. With this, you can select unwanted portions of the rubbed out area, then delete them. This enables you to see the exact path fo your rubout on the design. \n",
    "<img src=\"iso7.png\" width=\"40%\">\n",
    "\n",
    "\n",
    "#### Creating Board Outline: Routing and Cutout\n",
    "\n",
    "After all your layering and rubouts are completed, it is time to create the outline of your board. To begin creating the cutout:\n",
    "\n",
    "- Click the \"Create New Rectangle\" Icon on the lower left. From  here, you can drag and draw the rectangle for your desired outline. \n",
    "- If the shape of your design isn't perfectly rectangular, you can also lay out indivudal lines around the borders of your circuit.\n",
    "<img src=\"Routing.png\" width=\"60%\">\n",
    "\n",
    "In both cases, you must begin by creating a new layer so that you can place all the information into your board outline.\n",
    "\n",
    "- Step 1 : Click the Layer icon -> New\n",
    "- Step 2 : Make sure that the component layer is the only layer in \"view\" mode and the new layer is in \"Edit\" mode. The rest of the layers should be hidden.\n",
    "- Step 3: Name the new layer outline and close the window.\n",
    "- Step 4: In most of our designs, we will use the most common routing tool: a 62 mil diameter router. At the bottom of the screen, you have the option to modify the tool size/type. For most of our cases, we will define our tool shape to be round with a 62 mil width. You can edit the tool properties in the bar at the bottom corner of Isopro.\n",
    "<img src=\"Extra1.png\" width=\"60%\">\n",
    "- Step 5: Using the bottom tab, use the rectangle icon, or the lines, to drag across the area around your design/circuit. When you are finsihed dragging, release the cursor. Isopro gives you the ability to resize the circuit accordingly.\n",
    "                                                                                                                          \n",
    "##### - Step 6: If dealing with multiple layers (Gerber of dxf files)\n",
    "  - Set the layer with outline data to \"Edit\" mode while the others are in \"View\" or \"Hide.\"\n",
    "  - Delete all traces, pads, text that aren't part of your outline.\n",
    "  - Select all the traces that form the outline.\n",
    "  - Go to the Edit Menu -> Convert to Polygon\n",
    "  - Finally, Isolate the layer with a .062 mil tool (Or any appropriate diameter for your design).\n",
    "##### CONGRATS! You are now ready to mill!\n",
    "\n",
    "##### Sources\n",
    " - https://ece.uncc.edu/sites/ece.uncc.edu/files/media/isoproj5.pdf\n",
    " - https://www.ece.rice.edu/~jdw/332/332_html/ins_t-tech.html"
   ]
  },
  {
   "cell_type": "code",
   "execution_count": null,
   "metadata": {
    "collapsed": true
   },
   "outputs": [],
   "source": []
  },
  {
   "cell_type": "code",
   "execution_count": null,
   "metadata": {
    "collapsed": true
   },
   "outputs": [],
   "source": []
  },
  {
   "cell_type": "code",
   "execution_count": null,
   "metadata": {
    "collapsed": true
   },
   "outputs": [],
   "source": []
  },
  {
   "cell_type": "code",
   "execution_count": null,
   "metadata": {
    "collapsed": true
   },
   "outputs": [],
   "source": []
  }
 ],
 "metadata": {
  "kernelspec": {
   "display_name": "Python 3",
   "language": "python",
   "name": "python3"
  },
  "language_info": {
   "codemirror_mode": {
    "name": "ipython",
    "version": 3
   },
   "file_extension": ".py",
   "mimetype": "text/x-python",
   "name": "python",
   "nbconvert_exporter": "python",
   "pygments_lexer": "ipython3",
   "version": "3.6.3"
  }
 },
 "nbformat": 4,
 "nbformat_minor": 2
}
