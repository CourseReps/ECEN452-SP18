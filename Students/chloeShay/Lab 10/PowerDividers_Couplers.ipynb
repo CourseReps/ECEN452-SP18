{
 "cells": [
  {
   "cell_type": "markdown",
   "metadata": {},
   "source": [
    "# Lab 10: Synthesis & Characterization of Power Dividers and Couplers"
   ]
  },
  {
   "cell_type": "markdown",
   "metadata": {},
   "source": [
    "- Background\n",
    "   - Power Divider\n",
    "   - Couplers\n",
    "- Design\n",
    "- Simulation\n",
    "- Testing"
   ]
  },
  {
   "cell_type": "markdown",
   "metadata": {},
   "source": [
    "## Background\n",
    "\n",
    "### Wilkinson Power Divider\n",
    "\n",
    "Wilkinson power dividers split an input signal into two equal phase output signals, or combine two equal-phase signal into one in the opposite direction. It relies on quarter-wave transformers to match the split ports to the common port and. A resistor between the split ports isolates these ports from each other. \n",
    "\n",
    "### Couplers\n",
    "\n",
    "Hybrid couplers are the special case of a four-port directional coupler that is designed for a 3-dB (equal) power split. Hybrids come in two types, 90 degree or quadrature hybrids, and 180 degree hybrids. \n",
    "\n",
    "180° hybrid ring couplers (also called “rat race” couplers) are four-port devices used to either equally split an input signal or to sum two combined signals. An additional benefit of the hybrid ring is to alternately provide equally-split but 180 degree phase-shifted output signals.\n",
    "\n",
    "\n",
    "A 3 dB, 90° hybrid coupler is a four-port device that is used either to equally split an input signal with a resultant 90° phase shift between output ports or to combine two signals while maintaining high isolation between the ports.\n",
    "       \n"
   ]
  },
  {
   "cell_type": "markdown",
   "metadata": {},
   "source": [
    "## Design\n",
    "\n",
    "#### Wilkinson Power Divider\n",
    "\n",
    "![divider.png](divider.png)\n",
    "\n",
    "The design of the power divider should follow the figure below. The two legs of the divider should have an impedance of Z0*sqrt(2) and a length of λ/4.  The resistor should have a resistance of 2*Z0.\n",
    "\n",
    "        \n",
    "#### Branchline Coupler\n",
    "        \n",
    "All four sides of a branchline hybrid coupler should have a length of λ/4. The top and bottom of the branchline coupler should have an impedance of Z0/sqrt(2) and the sides should have an impedance of Z0. This is shown in the figure below.\n",
    "\n",
    "![Branchline Coupler](coupler.png)\n",
    "\n",
    "        \n"
   ]
  },
  {
   "cell_type": "markdown",
   "metadata": {},
   "source": [
    "## Simulation\n",
    "\n",
    "1) You will create circuit and HFSS simulations for a Wilkinson power divider and a branchline hybrid coupler. Use Z0=50Ω for all ports and a frequency of 2.5GHZ.\n",
    "\n",
    "0402 resistor\n",
    "\n",
    "\n",
    "#### Wilkinson Power Divider\n",
    "    Useful tip: Assign the resistor by using the 'assign boundary'--> 'Lumped RLC' tool in HFSS. Create a 'new line' for the RLC in the +z direction (perpendicular to the circuit).  It should be in the same direction as the waveport excitations.\n",
    "\n",
    "![Wilkinson](divSim.png)\n",
    "\n",
    "        \n",
    "\n",
    "#### Branchline Hybrid Coupler\n",
    "    Useful tip: The HFSS simulation should look similar to the circuit below. After uniting all the microstrip sections, use the chamfer tool to create the angled edges.\n",
    "\n",
    "![Branchline Coupler](hybSim.png)\n",
    "\n",
    "\n",
    "\n",
    "\n",
    "        "
   ]
  },
  {
   "cell_type": "markdown",
   "metadata": {},
   "source": [
    "## Results\n",
    "\n",
    "The results to your simulations should look similar to the graphs below.\n",
    "\n",
    "### Wilkinson Power Divider\n",
    "\n",
    "![Wilkinson Result](divMag.png)\n",
    "\n",
    "        \n",
    "\n",
    "### Branchline Hybrid Coupler\n",
    "    The simulation results for the circuit and HFSS design should look similar to the graphs below. \n",
    "\n",
    "![Branchline Coupler](hybMag.png)\n",
    "\n",
    "The S-parameters should have 90 degree phase offsets from each other.\n",
    "\n",
    "![Branchline Coupler](hybPhase.png)\n",
    "\n",
    "\n"
   ]
  },
  {
   "cell_type": "markdown",
   "metadata": {},
   "source": [
    "## Testing\n",
    "\n",
    "2) Fabricate the hybrid coupler and power divider and measure their S-paramaters.  Compare the simulation and measurement results."
   ]
  },
  {
   "cell_type": "code",
   "execution_count": null,
   "metadata": {
    "collapsed": true
   },
   "outputs": [],
   "source": []
  }
 ],
 "metadata": {
  "kernelspec": {
   "display_name": "Python 3",
   "language": "python",
   "name": "python3"
  },
  "language_info": {
   "codemirror_mode": {
    "name": "ipython",
    "version": 3
   },
   "file_extension": ".py",
   "mimetype": "text/x-python",
   "name": "python",
   "nbconvert_exporter": "python",
   "pygments_lexer": "ipython3",
   "version": "3.6.0"
  }
 },
 "nbformat": 4,
 "nbformat_minor": 2
}
