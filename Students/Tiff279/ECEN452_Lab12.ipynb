{
 "cells": [
  {
   "cell_type": "markdown",
   "metadata": {},
   "source": [
    "# Lab 12: Synthesis and Characterization of Microstrip Antennas\n",
    "\n",
    "## Background\n",
    "\n",
    "Microstrip antennas are analog signal antennas fabreicated on PCB material. The most common design and the focus of this report is the patch antenna. The design in this report will be rectangular shaped, but circular and elliptical antennas are also popular shapes. Electronically steered two dimensional arrays of patch antennas are a cheap and easy solution to achieve high gains at low costs. The size and sleek profile of patch antennas have made them very popular choices in the microwave circuit industry. \n",
    "\n",
    "### Feed Line Methods\n",
    "\n",
    "Below are four common methods to feeding a rectangular patch antenna:\n",
    "\n",
    "#### Edge Fed with QWT for impedance matching\n",
    "This method involves using a 50 ohm transmission line to feed the antenna. The antenna needs to be imepdance matched so a QWT is added between the 50 ohm feed line and the antenna to correctly match the impedances.\n"
   ]
  },
  {
   "attachments": {},
   "cell_type": "markdown",
   "metadata": {},
   "source": [
    "<img src=\"https://www.dropbox.com/s/zh503pyqu2zix3b/QWT%20fed.png?raw=1\" />"
   ]
  },
  {
   "cell_type": "markdown",
   "metadata": {},
   "source": [
    "#### Inset Fed Method\n",
    "Another popular option to match the antenna impedance to a 50 ohm line is designing an inset fed antenna. The edge of a patch antenna has the highest impedance, and decreases as you get closer to the center of the antenna. Inset fed method moves the point of contact for the feed line closer to the center where the feed line can be accurately matched to the antenna without the need of any additional matching techniques. "
   ]
  },
  {
   "attachments": {},
   "cell_type": "markdown",
   "metadata": {},
   "source": [
    "<img src=\"https://www.dropbox.com/s/95oq5w92z55x16z/Inset%20Fed.png?raw=1\" />"
   ]
  },
  {
   "cell_type": "markdown",
   "metadata": {},
   "source": [
    "#### Coaxial Feed Method \n",
    "Coaxial feeding is a nice option to avoid dealing with feed lines at all. A coaxial cable is fed from the bottom of the antenna with the outer conducting layer of the cable connected to the ground plane. The inner layer is fed up through the substrate to the patch antenna itself. Like the inset fed method, position of the coxial cable feed is important to determine impedance. "
   ]
  },
  {
   "attachments": {},
   "cell_type": "markdown",
   "metadata": {},
   "source": [
    "<img src=\"https://www.dropbox.com/s/mft8nm3h085kwsg/Coaxial%20Feed.png?raw=1\" />"
   ]
  },
  {
   "cell_type": "markdown",
   "metadata": {},
   "source": [
    "#### Coupled Feed Method\n",
    "This method involves using using the already mentioned feeding techniques, but not completely connecting the feed source to the antenna. In the figure below, notice how the inset fed feed line does not connect to the patch antenna. This gives designers a new variable to control, capacitance. The capacitance created by this type of design can be used to cancel out impedance. This method can also be applied to the coaxial cable method by not allowing the inner coaxial layer to reach the antenna. "
   ]
  },
  {
   "attachments": {},
   "cell_type": "markdown",
   "metadata": {},
   "source": [
    "<img src=\"https://www.dropbox.com/s/ny7h9d9empgsf79/coupled%20feed.png?raw=1\" />"
   ]
  },
  {
   "cell_type": "markdown",
   "metadata": {},
   "source": [
    "## Design\n",
    "\n",
    "#### Rectangular Patch Antenna"
   ]
  },
  {
   "cell_type": "markdown",
   "metadata": {},
   "source": [
    "Width of the patch: "
   ]
  },
  {
   "attachments": {},
   "cell_type": "markdown",
   "metadata": {},
   "source": [
    "<img src=\"https://www.dropbox.com/s/1vtrinemmuwx1es/WIDTH.PNG?raw=1\" />"
   ]
  },
  {
   "cell_type": "markdown",
   "metadata": {},
   "source": [
    "Length of the patch:"
   ]
  },
  {
   "attachments": {},
   "cell_type": "markdown",
   "metadata": {},
   "source": [
    "<img src=\"https://www.dropbox.com/s/kpadm86t2cjptm9/CREF.PNG?raw=1\" />\n",
    "<img src=\"https://www.dropbox.com/s/f6z3a8d0c3bbbg0/deltaL.PNG?raw=1\" />\n",
    "<img src=\"https://www.dropbox.com/s/4vxaxzl2qdvpe66/LENGTH.PNG?raw=1\" />"
   ]
  },
  {
   "cell_type": "markdown",
   "metadata": {},
   "source": [
    "Ground Plane Length/Width: \n"
   ]
  },
  {
   "attachments": {},
   "cell_type": "markdown",
   "metadata": {},
   "source": [
    "<img src=\"https://www.dropbox.com/s/lc9zx6yfji3mqqz/Ground%20Plane.PNG?raw=1\" />"
   ]
  },
  {
   "cell_type": "markdown",
   "metadata": {},
   "source": [
    "**Note: Having the correct ground plane and substrate dimensions are absolutely crucial to getting the correct frequency.**"
   ]
  },
  {
   "cell_type": "markdown",
   "metadata": {},
   "source": [
    "## Results\n",
    "\n",
    "The HFSS design is a rectangular patch antenna centered at 2.40 Ghz. A coaxial cable is used to feed the patch antenna. \n",
    "\n",
    "### Model"
   ]
  },
  {
   "attachments": {},
   "cell_type": "markdown",
   "metadata": {},
   "source": [
    "<img src=\"https://www.dropbox.com/s/q1gek5chelmajzb/model.PNG?raw=1\" />"
   ]
  },
  {
   "cell_type": "markdown",
   "metadata": {},
   "source": [
    "#### Coaxial cable view\n",
    "\n",
    "As described in the feeding method section above, the outer layer of the coaxial cable is connected to the ground plane while the inner layer goes up the patch. The coaxial cable extends out and has a waveport attached to the end to simulate a source. The placement of the coaxial cable was chosen to control the impedance. "
   ]
  },
  {
   "attachments": {},
   "cell_type": "markdown",
   "metadata": {},
   "source": [
    "<img src=\"https://www.dropbox.com/s/awtbbyvctng45z5/coax.PNG?raw=1\" />"
   ]
  },
  {
   "cell_type": "markdown",
   "metadata": {},
   "source": [
    "### S-Parameter (1,1) dB vs Frequency\n",
    "\n",
    "The graph is nearly centered on 2.40 Ghz. This confirms that our patch and ground plane dimensions were calculated correctly within an acceptable error margin. "
   ]
  },
  {
   "attachments": {},
   "cell_type": "markdown",
   "metadata": {},
   "source": [
    "<img src=\"https://www.dropbox.com/s/j4ztoyzlk5z1ic6/DB%20plot.PNG?raw=1\" />"
   ]
  },
  {
   "cell_type": "markdown",
   "metadata": {},
   "source": [
    "### VSWR vs Frequency\n",
    "\n",
    "The beginning of the VSWR plot starts out extremely high, but falls to under 3 when evaluated at 2.40 GHz. I suspect my coaxial placement is the cause of the abnormally high value in the beginning. "
   ]
  },
  {
   "attachments": {},
   "cell_type": "markdown",
   "metadata": {},
   "source": [
    "<img src=\"https://www.dropbox.com/s/evxt8i8roa0wapo/vswr.PNG?raw=1\" />"
   ]
  },
  {
   "cell_type": "markdown",
   "metadata": {},
   "source": [
    "### Radiation Patterns\n",
    "\n",
    "Radiation patterns are normal and provide a nice coverage across a range of phases.\n",
    "\n",
    "#### XZ-Plane"
   ]
  },
  {
   "attachments": {},
   "cell_type": "markdown",
   "metadata": {},
   "source": [
    "<img src=\"https://www.dropbox.com/s/uxck34xpv61h9xb/XZ%20plane.PNG?raw=1\" />"
   ]
  },
  {
   "cell_type": "markdown",
   "metadata": {},
   "source": [
    "#### YZ-Plane"
   ]
  },
  {
   "attachments": {},
   "cell_type": "markdown",
   "metadata": {},
   "source": [
    "<img src=\"https://www.dropbox.com/s/2tq1uidh5i3szqv/YZ%20plane.PNG?raw=1\" />"
   ]
  },
  {
   "cell_type": "markdown",
   "metadata": {},
   "source": [
    "### 3D gain Polar Plot\n",
    "\n",
    "The shape of our 3 dimensional plot is excellent and further supports our radiation patterns above. The only concern I have about this antenna design is the low gain. A gain of 1 (0 dB) is considered a lossless antenna. I am not sure why this is the result I am receiving. "
   ]
  },
  {
   "attachments": {},
   "cell_type": "markdown",
   "metadata": {},
   "source": [
    "<img src=\"https://www.dropbox.com/s/gub638bk121ria4/3d%20gain.PNG?raw=1\" />"
   ]
  },
  {
   "cell_type": "markdown",
   "metadata": {},
   "source": [
    "### Patch Electric Fields\n",
    "\n",
    "Below is the electric field on the patch antenna at 60 degrees. This phase provided the highest V/m on the antenna. "
   ]
  },
  {
   "attachments": {},
   "cell_type": "markdown",
   "metadata": {},
   "source": [
    "<img src=\"https://www.dropbox.com/s/9e10y60uhybdtcr/Efield.PNG?raw=1\" />"
   ]
  },
  {
   "cell_type": "markdown",
   "metadata": {},
   "source": [
    "## Testing\n",
    "\n",
    "Fabricate this antenna and compare its results with what has been simulated."
   ]
  }
 ],
 "metadata": {
  "kernelspec": {
   "display_name": "Python 3",
   "language": "python",
   "name": "python3"
  },
  "language_info": {
   "codemirror_mode": {
    "name": "ipython",
    "version": 3
   },
   "file_extension": ".py",
   "mimetype": "text/x-python",
   "name": "python",
   "nbconvert_exporter": "python",
   "pygments_lexer": "ipython3",
   "version": "3.6.1"
  }
 },
 "nbformat": 4,
 "nbformat_minor": 2
}
