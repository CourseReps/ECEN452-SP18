{
 "cells": [
  {
   "cell_type": "markdown",
   "metadata": {},
   "source": [
    "# Lab 8: Tapered Lines"
   ]
  },
  {
   "cell_type": "markdown",
   "metadata": {},
   "source": [
    "In this lab, we designed several tapered lines that matched a 50 ohm line to a 100 ohm line. Tapered lines and stepped transformers provide impedance matching over a large bandwidth. The center frequency for all of these matching line is 2.5 GHz."
   ]
  },
  {
   "cell_type": "markdown",
   "metadata": {},
   "source": [
    "## Polynomial Transformers"
   ]
  },
  {
   "attachments": {},
   "cell_type": "markdown",
   "metadata": {},
   "source": [
    "### Binomial Transformer\n",
    "\n",
    "The binomial transformer is a simple quarter wave stepped impedance transformer. The reflection coefficients of each section are determined by the number of stepped sections and the coefficients of a binomial series. This transformer provides ideally maximal flatness in the passband.\n",
    "\n",
    "For a 3 step transformer, the binomial coefficients are (1),3,3,1 (where the first 1 is the initial Z0). The impedances of these sections were calculated to be 54.52538663, 70.71067812, and 91.70040432. The bandwidth of this transformer was calculated to be 71.3% of the cetner bandwidth.\n",
    "\n",
    "The circuit model and its results are shown below.\n",
    "\n",
    "![Fig1.png](Fig1.png)\n",
    "\n",
    "![Fig2.png](Fig2.png)\n",
    "\n",
    "![Fig3.png](Fig3.png)\n",
    "\n",
    "![Fig4.png](Fig4.png)\n",
    "\n",
    "\n",
    "Taking the bandwidth to be where the VSWR = 1.5, the actual bandwidth is about 68%.\n",
    "\n",
    "\n",
    "The HFSS model and its results are shown below.\n",
    "\n",
    "\n",
    "![Fig5.png](Fig5.png)\n",
    "\n",
    "![Fig6.png](Fig6.png)\n",
    "\n",
    "![Fig7.png](Fig7.png)\n",
    "\n",
    "![Fig8.png](Fig8.png)\n",
    "\n",
    "\n",
    "Again, taking the bandwidth to be where the VSWR = 1.5, the actual bandwidth is about 66.67%."
   ]
  },
  {
   "attachments": {},
   "cell_type": "markdown",
   "metadata": {},
   "source": [
    "### Chebyshev Transformer\n",
    "\n",
    "The Chebyshev transformer has a similar approach as the binomial transformer. The main difference is that the Chebyshev transformer provides equiripple in the passband instead of maximal flatness.\n",
    "\n",
    "For a 4 step transformer, the impedances of the sections were calculated to be 55.7857, 64.7862, 77.1770 and 89.6287. The bandwidth of this transformer was calculated to be 60%.\n",
    "\n",
    "The circuit model for this design is shown below.\n",
    "\n",
    "![chebFig1.png](chebFig1.png)\n",
    "\n",
    "![chebFig2.png](chebFig2.png)\n",
    "\n",
    "![chebFig3.png](chebFig3.png)\n",
    "\n",
    "![chebFig4.png](chebFig4.png)\n",
    "\n",
    "\n",
    "Taking the bandwidth to be the last point where the VSWR is below the equiripple point (VSWR = 1.1), the bandwidth is 60%.\n",
    "\n",
    "\n",
    "The HFSS model of this design is shown below\n",
    "\n",
    "![chebFig5.png](chebFig5.png)\n",
    "\n",
    "![chebFig6.png](chebFig6.png)\n",
    "\n",
    "![chebFig7.png](chebFig7.png)\n",
    "\n",
    "![chebFig8.png](chebFig8.png)\n",
    "\n",
    "\n",
    "In the HFSS model, the ripple in the VSWR is greater than that in the circuit model. This is due to nonidealities not considered in the circuit model. Taking the bandwidth where the VSWR is rippling gives us a bandwidth of 67%."
   ]
  },
  {
   "cell_type": "markdown",
   "metadata": {},
   "source": [
    "## Tapered Lines"
   ]
  },
  {
   "cell_type": "markdown",
   "metadata": {},
   "source": [
    "### Linear Taper\n",
    "\n",
    "The linear taper is the simplest tapered line. Two lines of different characteristic impedances are connected by a line of constantly changing Z0. For microstrip lines, this is the same as changing the width on a linear scale. These tapers work better over longer distances. For this lab, the taper was chosen to be a full wavelength long to provide a wideband match.\n",
    "\n",
    "The circuit model and results for this design are shown below.\n",
    "\n",
    "![linFig1.png](linFig1.png)\n",
    "\n",
    "![linFig2.png](linFig2.png)\n",
    "\n",
    "![linFig3.png](linFig3.png)\n",
    "\n",
    "![linFig4.png](linFig4.png)\n",
    "\n",
    "\n",
    "\n",
    "The HFSS model of this design and its results are shown below\n",
    "\n",
    "![linFig5.png](linFig5.png)\n",
    "\n",
    "![linFig6.png](linFig6.png)\n",
    "\n",
    "![linFig7.png](linFig7.png)\n",
    "\n",
    "![linFig8.png](linFig8.png)"
   ]
  },
  {
   "cell_type": "markdown",
   "metadata": {},
   "source": [
    "### Exponential Taper\n",
    "\n",
    "The exponential taper is similar to the linear taper, but the characteristic impedance changes on a logarithmic scale. This provides equiripple in the matched frequency band.\n",
    "\n",
    "The circuit model and results for this design are shown below.\n",
    "\n",
    "![expFig1.png](expFig1.png)\n",
    "\n",
    "![expFig2.png](expFig2.png)\n",
    "\n",
    "![expFig3.png](expFig3.png)\n",
    "\n",
    "![expFig4.png](expFig4.png)\n",
    "\n",
    "\n",
    "\n",
    "The HFSS model of this design and its results are shown below\n",
    "\n",
    "![expFig5.png](expFig5.png)\n",
    "\n",
    "![expFig6.png](expFig6.png)\n",
    "\n",
    "![expFig7.png](expFig7.png)\n",
    "\n",
    "![expFig8.png](expFig8.png)"
   ]
  }
 ],
 "metadata": {
  "kernelspec": {
   "display_name": "Python 3",
   "language": "python",
   "name": "python3"
  },
  "language_info": {
   "codemirror_mode": {
    "name": "ipython",
    "version": 3
   },
   "file_extension": ".py",
   "mimetype": "text/x-python",
   "name": "python",
   "nbconvert_exporter": "python",
   "pygments_lexer": "ipython3",
   "version": "3.6.4"
  }
 },
 "nbformat": 4,
 "nbformat_minor": 2
}
