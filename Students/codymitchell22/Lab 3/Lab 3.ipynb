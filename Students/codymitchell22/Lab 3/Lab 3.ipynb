{
 "cells": [
  {
   "cell_type": "markdown",
   "metadata": {},
   "source": [
    "# Lab 3: Introduction to RF, Microwave, and Millimeter-Wave Measurments"
   ]
  },
  {
   "cell_type": "markdown",
   "metadata": {},
   "source": [
    "## Background\n",
    "\n",
    "![drawing.png](drawing.png)\n",
    "\n",
    "As you know, 2-port networks have four S-parameters, the reflection coefficients being S11, S22, and the transmission coefficients S21, S12. In general, S21 is the measurement of the complex output/Input transfer function. Complex means that it represents both gain (or insertion loss) and phase relationship between the input and the output signals.  As shown in the equations below, gain is referred to as a positive number, and insertion loss is negative; both are typically expressed in dB.  The third equation is he phase response of the network. In this lab, our main focus will be on the phase response of the system, rather than the magnitude response. In regard to S21, the phase defines how much shift occurs for each frequency.\n",
    "![equation1.png](equation1.png)\n",
    "![equation1.png](equation2.png)\n",
    "![equation1.png](equation3.png)\n"
   ]
  },
  {
   "cell_type": "markdown",
   "metadata": {},
   "source": [
    "## Design\n",
    "\n",
    "For this lab we will take measurments of your TRL kit you designed first in the ANSYS Electronic Desktop and then in HFSS. \n",
    "\n",
    "![thrucircuit.png](thrucircuit.png) \n",
    "Thru deisgn from Electronics Desktop\n",
    "\n",
    "![THRU.png](THRU.png) \n",
    "Thru design from HFSS\n",
    "\n",
    "Tip: When designing your wave ports, make them large enough to ensure proper computing of S-Parameter. You can do so by following a similar method as the equations I used, seen below in \"Properties.\" \n",
    "![properties.png](properties.png) \n",
    "A correctly sized wave port will have a field like the one shown here.\n",
    "![field.png](field.png)  \n",
    "\n",
    "\n",
    "Tip: You can confirm that your integration lines are in the same direction for both of your wave ports by checking them under \"Excitations\" in the Project Manager.\n",
    "\n",
    "![excitation1.png](excitation1.png)![excitation2.png](excitation2.png) \n",
    "                  "
   ]
  },
  {
   "cell_type": "markdown",
   "metadata": {},
   "source": [
    "## Measurments in ANSYS\n",
    "\n",
    "Frequency Sweep using a linear count from 2 GHz to 4.5 GHz\n",
    "\n",
    "![phase_plot.PNG](phase_plot.PNG)\n",
    "Phase Plot from Electronics Desktop\n",
    "\n",
    "![hfss_phase_plot.PNG](hfss_phase_plot.PNG)\n",
    "Phase Plot from HFSS"
   ]
  },
  {
   "cell_type": "markdown",
   "metadata": {},
   "source": [
    "Now, to verfiy our results we obtained from the simulations we got from ANSYS, we will use a python package for RF measurements and simulations is the package scikit-rf or skrf. This lab is based of the assumption that you already have installed skrf on your device. The implementation of the skrf package is as follows."
   ]
  },
  {
   "cell_type": "code",
   "execution_count": null,
   "metadata": {},
   "outputs": [],
   "source": []
  },
  {
   "cell_type": "code",
   "execution_count": 5,
   "metadata": {},
   "outputs": [],
   "source": [
    "# import skrf as rf\n",
    "from matplotlib import pyplot as plt\n",
    "from skrf.calibration import OnePort\n",
    "from skrf.calibration.calibration import TRL\n",
    "from skrf import data\n",
    "\n",
    "#import your snp files from Electronics Desktop simulation\n",
    "T = rf.Network('Lab3_thru.s2p')\n",
    "R = rf.Network('Lab3_reflect.s1p')\n",
    "L = rf.Network('Lab3_line.s2p')\n",
    "\n",
    "#switch_terms = (rf.Network('trl_data/forward switch term.s1p'),\n",
    "               # rf.Network('trl_data/reverse switch term.s1p'))\n",
    "\n",
    "measured = [T,R,L]"
   ]
  }
 ],
 "metadata": {
  "kernelspec": {
   "display_name": "Python 3",
   "language": "python",
   "name": "python3"
  },
  "language_info": {
   "codemirror_mode": {
    "name": "ipython",
    "version": 3
   },
   "file_extension": ".py",
   "mimetype": "text/x-python",
   "name": "python",
   "nbconvert_exporter": "python",
   "pygments_lexer": "ipython3",
   "version": "3.6.3"
  }
 },
 "nbformat": 4,
 "nbformat_minor": 2
}
