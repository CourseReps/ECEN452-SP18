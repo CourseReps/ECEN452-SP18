{
 "cells": [
  {
   "cell_type": "markdown",
   "metadata": {},
   "source": [
    "# Lab 6: Calibration Standards & Automation of SOLT/ TRL Calibrations"
   ]
  },
  {
   "cell_type": "markdown",
   "metadata": {},
   "source": [
    "## Content\n",
    "- Background\n",
    "   - SOLT\n",
    "   - TRL\n",
    "- Design\n",
    "- Simulation\n",
    "- Fabrication\n",
    "- Calibration\n",
    "    "
   ]
  },
  {
   "cell_type": "markdown",
   "metadata": {},
   "source": [
    "## Background\n",
    "\n",
    "A vector network analyzer requires that a measurement calibration be performed before error-corrected measurements can be made. For two-port measurements, the calibration algorithm used will determine the appropriate calibration kit, known either as SOLT or TRL/TRL*.\n",
    "\n",
    "Traditional full two calibration calibration typically utilizes three impedance and one transmission standards to define the calibrated reference plane. These standards, typically a Short, Open, Load, and Thru, make up the SOLT calibration kit.\n",
    "\n",
    "Another two port calibration type utilizes a minimum of three standards to define the calibrated reference plane. The measured parameters of the Thru, Reflect, and Line standards in a TRL/TRL* calibration kit provides the same information as a SOLT calibration via a different algorithm.\n",
    "\n",
    "Depending on the availability of calibration standards and the functionality of the network analyzer, one may use either calibration kit.\n"
   ]
  },
  {
   "cell_type": "markdown",
   "metadata": {},
   "source": [
    "## Design\n",
    "\n",
    "SOLT calibration kits are very difficult to design, so we will only be desiging a TRL kit.\n",
    "\n",
    "The design of a TRL calibration kit is fairly straightforward. The lengths and widths of the thru, reflect, and line microstrips will need to be calculated.  \n",
    "\n",
    "We will design a TRL kit for a 62mil FR-4 substrate operating at 2.45GHZ. Calculate the length and width for a matched transmission line between two 50Ω ports.  This can be done by hand or using a microstrip calculator.\n",
    "\n",
    "#### Thru\n",
    "\n",
    "- The width calculated should be the same for all three microstrips.\n",
    "\n",
    "#### Reflect\n",
    "\n",
    "- The reflect length is half of the thru length. \n",
    "\n",
    "#### Line\n",
    "\n",
    "- Calculated the line length by adding λ/4 to the thru length.\n",
    "\n",
    "![Pic](TRL.png)\n"
   ]
  },
  {
   "cell_type": "markdown",
   "metadata": {},
   "source": [
    "## Simulation\n",
    "\n",
    "Open ANSYS Electronics Desktop, create a new project titled yourName_TRLKit. \n",
    "\n",
    "### 1) Create a circuit design for the thru, reflect and line microstrips. \n",
    "\n",
    "*Verify the S-parameters show total reflection for the reflect line and total transmission for the thru. \n",
    "\n",
    "  \n",
    "### 2) Create an HFSS simulation for the three TRL microstrips, again verifying the S-parameter results.  The HFSS circuits should look similar to the images below. Compare the simulated and measured results for the TRL kit.\n",
    "\n",
    "*Remember to make the substrate much wider than the microstrip, and place the waveports at the end of the strips.\n",
    "\n",
    "#### Thru\n",
    "![Pic](thru.png)\n",
    "\n",
    "#### Line\n",
    "![Pic](line.png)\n",
    "\n",
    "#### Reflect\n",
    "![Pic](reflect.png)\n",
    "\n",
    "\n",
    "\n"
   ]
  },
  {
   "cell_type": "markdown",
   "metadata": {},
   "source": [
    "## Calibration"
   ]
  },
  {
   "cell_type": "markdown",
   "metadata": {
    "collapsed": true
   },
   "source": [
    "## Deembedding\n",
    "\n",
    "Deembedding is done in post processing.  This uses algorithms that remove the effect of the fixture on the tests.  This can be done using the scikit rf package in Python.  To begin, save the touchstone files of the S-parameter values from the network analyzer.\n",
    "\n",
    "### 3) Create a python program that uses scikit RF to perform a TRL and SOLT calibration.\n",
    "\n",
    "#### SOLT\n",
    "\n",
    "This is an example of SOLT calibration deembedding using scikit RF.\n"
   ]
  },
  {
   "cell_type": "code",
   "execution_count": 2,
   "metadata": {
    "collapsed": false
   },
   "outputs": [
    {
     "ename": "FileNotFoundError",
     "evalue": "[Errno 2] No such file or directory: 'ideal/short.s1p'",
     "output_type": "error",
     "traceback": [
      "\u001b[0;31m---------------------------------------------------------------------------\u001b[0m",
      "\u001b[0;31mFileNotFoundError\u001b[0m                         Traceback (most recent call last)",
      "\u001b[0;32m<ipython-input-2-0645ae54322e>\u001b[0m in \u001b[0;36m<module>\u001b[0;34m()\u001b[0m\n\u001b[1;32m      5\u001b[0m \u001b[0;34m\u001b[0m\u001b[0m\n\u001b[1;32m      6\u001b[0m \u001b[0;31m# a list of Network types, holding 'ideal' responses\u001b[0m\u001b[0;34m\u001b[0m\u001b[0;34m\u001b[0m\u001b[0m\n\u001b[0;32m----> 7\u001b[0;31m my_ideals = [        rf.Network('ideal/short.s1p'),\n\u001b[0m\u001b[1;32m      8\u001b[0m         \u001b[0mrf\u001b[0m\u001b[0;34m.\u001b[0m\u001b[0mNetwork\u001b[0m\u001b[0;34m(\u001b[0m\u001b[0;34m'ideal/open.s1p'\u001b[0m\u001b[0;34m)\u001b[0m\u001b[0;34m,\u001b[0m\u001b[0;34m\u001b[0m\u001b[0m\n\u001b[1;32m      9\u001b[0m         \u001b[0mrf\u001b[0m\u001b[0;34m.\u001b[0m\u001b[0mNetwork\u001b[0m\u001b[0;34m(\u001b[0m\u001b[0;34m'ideal/load.s1p'\u001b[0m\u001b[0;34m)\u001b[0m\u001b[0;34m,\u001b[0m\u001b[0;34m\u001b[0m\u001b[0m\n",
      "\u001b[0;32m/anaconda/lib/python3.6/site-packages/skrf/network.py\u001b[0m in \u001b[0;36m__init__\u001b[0;34m(self, file, name, comments, f_unit, **kwargs)\u001b[0m\n\u001b[1;32m    377\u001b[0m             \u001b[0;31m# open file in 'binary' mode because we are going to try and\u001b[0m\u001b[0;34m\u001b[0m\u001b[0;34m\u001b[0m\u001b[0m\n\u001b[1;32m    378\u001b[0m             \u001b[0;31m# unpickle it first\u001b[0m\u001b[0;34m\u001b[0m\u001b[0;34m\u001b[0m\u001b[0m\n\u001b[0;32m--> 379\u001b[0;31m             \u001b[0mfid\u001b[0m \u001b[0;34m=\u001b[0m \u001b[0mget_fid\u001b[0m\u001b[0;34m(\u001b[0m\u001b[0mfile\u001b[0m\u001b[0;34m,\u001b[0m \u001b[0;34m'rb'\u001b[0m\u001b[0;34m)\u001b[0m\u001b[0;34m\u001b[0m\u001b[0m\n\u001b[0m\u001b[1;32m    380\u001b[0m \u001b[0;34m\u001b[0m\u001b[0m\n\u001b[1;32m    381\u001b[0m             \u001b[0;32mtry\u001b[0m\u001b[0;34m:\u001b[0m\u001b[0;34m\u001b[0m\u001b[0m\n",
      "\u001b[0;32m/anaconda/lib/python3.6/site-packages/skrf/util.py\u001b[0m in \u001b[0;36mget_fid\u001b[0;34m(file, *args, **kwargs)\u001b[0m\n\u001b[1;32m    164\u001b[0m     '''\n\u001b[1;32m    165\u001b[0m     \u001b[0;32mif\u001b[0m \u001b[0misinstance\u001b[0m\u001b[0;34m(\u001b[0m\u001b[0mfile\u001b[0m\u001b[0;34m,\u001b[0m \u001b[0mbasestring\u001b[0m\u001b[0;34m)\u001b[0m\u001b[0;34m:\u001b[0m\u001b[0;34m\u001b[0m\u001b[0m\n\u001b[0;32m--> 166\u001b[0;31m         \u001b[0;32mreturn\u001b[0m \u001b[0mopen\u001b[0m\u001b[0;34m(\u001b[0m\u001b[0mfile\u001b[0m\u001b[0;34m,\u001b[0m \u001b[0;34m*\u001b[0m\u001b[0margs\u001b[0m\u001b[0;34m,\u001b[0m \u001b[0;34m**\u001b[0m\u001b[0mkwargs\u001b[0m\u001b[0;34m)\u001b[0m\u001b[0;34m\u001b[0m\u001b[0m\n\u001b[0m\u001b[1;32m    167\u001b[0m     \u001b[0;32melse\u001b[0m\u001b[0;34m:\u001b[0m\u001b[0;34m\u001b[0m\u001b[0m\n\u001b[1;32m    168\u001b[0m         \u001b[0;32mreturn\u001b[0m \u001b[0mfile\u001b[0m\u001b[0;34m\u001b[0m\u001b[0m\n",
      "\u001b[0;31mFileNotFoundError\u001b[0m: [Errno 2] No such file or directory: 'ideal/short.s1p'"
     ]
    }
   ],
   "source": [
    "import skrf as rf\n",
    "from skrf.calibration import OnePort\n",
    "\n",
    "## created necessary data for Calibration class\n",
    "\n",
    "# a list of Network types, holding 'ideal' responses\n",
    "my_ideals = [\\\n",
    "        rf.Network('ideal/short.s1p'),\n",
    "        rf.Network('ideal/open.s1p'),\n",
    "        rf.Network('ideal/load.s1p'),\n",
    "        ]\n",
    "\n",
    "# a list of Network types, holding 'measured' responses\n",
    "my_measured = [\\\n",
    "        rf.Network('measured/short.s1p'),\n",
    "        rf.Network('measured/open.s1p'),\n",
    "        rf.Network('measured/load.s1p'),\n",
    "        ]\n",
    "\n",
    "## create a Calibration instance\n",
    "cal = rf.OnePort(\\\n",
    "        ideals = my_ideals,\n",
    "        measured = my_measured,\n",
    "        )\n",
    "\n",
    "\n",
    "## run, and apply calibration to a DUT\n",
    "\n",
    "# run calibration algorithm\n",
    "cal.run()\n",
    "\n",
    "# apply it to a dut\n",
    "dut = rf.Network('my_dut.s1p')\n",
    "dut_caled = cal.apply_cal(dut)\n",
    "dut_caled.name =  dut.name + ' corrected'\n",
    "\n",
    "# plot results\n",
    "dut_caled.plot_s_db()\n",
    "# save results\n",
    "dut_caled.write_touchstone()"
   ]
  },
  {
   "cell_type": "markdown",
   "metadata": {},
   "source": [
    "#### TRL\n",
    "\n",
    "This is an example of TRL calibration deembedding using scikit RF."
   ]
  },
  {
   "cell_type": "code",
   "execution_count": 4,
   "metadata": {
    "collapsed": false
   },
   "outputs": [
    {
     "ename": "FileNotFoundError",
     "evalue": "[Errno 2] No such file or directory: 'trl_data/thru.s2p'",
     "output_type": "error",
     "traceback": [
      "\u001b[0;31m---------------------------------------------------------------------------\u001b[0m",
      "\u001b[0;31mFileNotFoundError\u001b[0m                         Traceback (most recent call last)",
      "\u001b[0;32m<ipython-input-4-ebda74ca33ee>\u001b[0m in \u001b[0;36m<module>\u001b[0;34m()\u001b[0m\n\u001b[1;32m      6\u001b[0m \u001b[0mstylely\u001b[0m\u001b[0;34m(\u001b[0m\u001b[0;34m)\u001b[0m\u001b[0;34m\u001b[0m\u001b[0m\n\u001b[1;32m      7\u001b[0m \u001b[0;34m\u001b[0m\u001b[0m\n\u001b[0;32m----> 8\u001b[0;31m \u001b[0mT\u001b[0m \u001b[0;34m=\u001b[0m \u001b[0mrf\u001b[0m\u001b[0;34m.\u001b[0m\u001b[0mNetwork\u001b[0m\u001b[0;34m(\u001b[0m\u001b[0;34m'trl_data/thru.s2p'\u001b[0m\u001b[0;34m)\u001b[0m\u001b[0;34m\u001b[0m\u001b[0m\n\u001b[0m\u001b[1;32m      9\u001b[0m \u001b[0mR\u001b[0m \u001b[0;34m=\u001b[0m \u001b[0mrf\u001b[0m\u001b[0;34m.\u001b[0m\u001b[0mNetwork\u001b[0m\u001b[0;34m(\u001b[0m\u001b[0;34m'trl_data/reflect.s2p'\u001b[0m\u001b[0;34m)\u001b[0m\u001b[0;34m\u001b[0m\u001b[0m\n\u001b[1;32m     10\u001b[0m \u001b[0mL\u001b[0m \u001b[0;34m=\u001b[0m \u001b[0mrf\u001b[0m\u001b[0;34m.\u001b[0m\u001b[0mNetwork\u001b[0m\u001b[0;34m(\u001b[0m\u001b[0;34m'trl_data/line.s2p'\u001b[0m\u001b[0;34m)\u001b[0m\u001b[0;34m\u001b[0m\u001b[0m\n",
      "\u001b[0;32m/anaconda/lib/python3.6/site-packages/skrf/network.py\u001b[0m in \u001b[0;36m__init__\u001b[0;34m(self, file, name, comments, f_unit, **kwargs)\u001b[0m\n\u001b[1;32m    377\u001b[0m             \u001b[0;31m# open file in 'binary' mode because we are going to try and\u001b[0m\u001b[0;34m\u001b[0m\u001b[0;34m\u001b[0m\u001b[0m\n\u001b[1;32m    378\u001b[0m             \u001b[0;31m# unpickle it first\u001b[0m\u001b[0;34m\u001b[0m\u001b[0;34m\u001b[0m\u001b[0m\n\u001b[0;32m--> 379\u001b[0;31m             \u001b[0mfid\u001b[0m \u001b[0;34m=\u001b[0m \u001b[0mget_fid\u001b[0m\u001b[0;34m(\u001b[0m\u001b[0mfile\u001b[0m\u001b[0;34m,\u001b[0m \u001b[0;34m'rb'\u001b[0m\u001b[0;34m)\u001b[0m\u001b[0;34m\u001b[0m\u001b[0m\n\u001b[0m\u001b[1;32m    380\u001b[0m \u001b[0;34m\u001b[0m\u001b[0m\n\u001b[1;32m    381\u001b[0m             \u001b[0;32mtry\u001b[0m\u001b[0;34m:\u001b[0m\u001b[0;34m\u001b[0m\u001b[0m\n",
      "\u001b[0;32m/anaconda/lib/python3.6/site-packages/skrf/util.py\u001b[0m in \u001b[0;36mget_fid\u001b[0;34m(file, *args, **kwargs)\u001b[0m\n\u001b[1;32m    164\u001b[0m     '''\n\u001b[1;32m    165\u001b[0m     \u001b[0;32mif\u001b[0m \u001b[0misinstance\u001b[0m\u001b[0;34m(\u001b[0m\u001b[0mfile\u001b[0m\u001b[0;34m,\u001b[0m \u001b[0mbasestring\u001b[0m\u001b[0;34m)\u001b[0m\u001b[0;34m:\u001b[0m\u001b[0;34m\u001b[0m\u001b[0m\n\u001b[0;32m--> 166\u001b[0;31m         \u001b[0;32mreturn\u001b[0m \u001b[0mopen\u001b[0m\u001b[0;34m(\u001b[0m\u001b[0mfile\u001b[0m\u001b[0;34m,\u001b[0m \u001b[0;34m*\u001b[0m\u001b[0margs\u001b[0m\u001b[0;34m,\u001b[0m \u001b[0;34m**\u001b[0m\u001b[0mkwargs\u001b[0m\u001b[0;34m)\u001b[0m\u001b[0;34m\u001b[0m\u001b[0m\n\u001b[0m\u001b[1;32m    167\u001b[0m     \u001b[0;32melse\u001b[0m\u001b[0;34m:\u001b[0m\u001b[0;34m\u001b[0m\u001b[0m\n\u001b[1;32m    168\u001b[0m         \u001b[0;32mreturn\u001b[0m \u001b[0mfile\u001b[0m\u001b[0;34m\u001b[0m\u001b[0m\n",
      "\u001b[0;31mFileNotFoundError\u001b[0m: [Errno 2] No such file or directory: 'trl_data/thru.s2p'"
     ]
    }
   ],
   "source": [
    "import skrf as rf\n",
    "from skrf.calibration import TRL\n",
    "\n",
    "%matplotlib inline\n",
    "from skrf.plotting import stylely\n",
    "stylely()\n",
    "\n",
    "T = rf.Network('trl_data/thru.s2p')\n",
    "R = rf.Network('trl_data/reflect.s2p')\n",
    "L = rf.Network('trl_data/line.s2p')\n",
    "\n",
    "switch_terms = (rf.Network('trl_data/forward switch term.s1p'),\n",
    "                rf.Network('trl_data/reverse switch term.s1p'))\n",
    "\n",
    "measured = [T,R,L]\n",
    "trl = TRL(measured = measured,\n",
    "          switch_terms = switch_terms)\n",
    "\n",
    "dut_raw = rf.Network('trl_data/mismatched line.s2p')\n",
    "dut_corrected = trl.apply_cal(dut_raw)\n",
    "dut_corrected.plot_s_db()\n"
   ]
  },
  {
   "cell_type": "markdown",
   "metadata": {
    "collapsed": true
   },
   "source": [
    "## Calibration through the Network Analyzer\n",
    "\n",
    "Deembedding through python is often unnecessary, since many network analyzers can be calibrated internally before testing.  This means that the measured data is already adjested to account for the fixtures, and doesnt need to be further adjusted in post-processing. \n",
    "\n",
    "### 4) Calibrate the network analyzer using the SOLT calibration kit.  Take a picture of the network analyzer's screen before and after calibration. Observe the differences in the graphs.\n",
    "\n",
    "This is a simple process, on the network analyzer select 'response' --> 'cal' --> 'calibration wizard' --> 'unguided' and then select either 'TRL' ot 'SOLT' depending on which sort of calibration kit you're using. Then follow the directions on the screen, attaching the calibration fixtures until the machine is fully calibrated. \n",
    "\n",
    "\n",
    "### SOLT Kit\n",
    "![Pic](calkit.png)\n",
    "\n",
    "#### The type of calibration fixture is labeled on the back.  Be sure you attach male to female componenets and vice versa.\n",
    "![Pic](cal.png)\n",
    "\n"
   ]
  },
  {
   "cell_type": "code",
   "execution_count": null,
   "metadata": {
    "collapsed": true
   },
   "outputs": [],
   "source": []
  }
 ],
 "metadata": {
  "kernelspec": {
   "display_name": "Python 3",
   "language": "python",
   "name": "python3"
  },
  "language_info": {
   "codemirror_mode": {
    "name": "ipython",
    "version": 3
   },
   "file_extension": ".py",
   "mimetype": "text/x-python",
   "name": "python",
   "nbconvert_exporter": "python",
   "pygments_lexer": "ipython3",
   "version": "3.6.0"
  }
 },
 "nbformat": 4,
 "nbformat_minor": 2
}
