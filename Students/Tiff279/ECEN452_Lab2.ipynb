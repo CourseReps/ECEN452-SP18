{
 "cells": [
  {
   "cell_type": "markdown",
   "metadata": {},
   "source": [
    "# Lab 2: CAD Modeling and Full Wave Electromagnetic Simulation. \n",
    "\n",
    "\n",
    "\n",
    "\n",
    "\n",
    "\n",
    "## 1. Getting Started\n",
    "\n",
    "In this lab I will be walking through the basics of designing an HFSS file in Ansys Electronic Desktop. I will be designing a simple microsctrip line on a FR4 Epoxy substrate. \n",
    "\n",
    "To get started, create an HFSS design file by selecting the \"Project\" tab in the top left corner and clicking \"Insert HFSS Design\".\n",
    "\n",
    "## 2. Add the Substrate\n",
    "\n",
    "### Creating a box\n",
    "\n",
    "The first step in creating an HFSS design is adding the substrate. The substrate is represented by a 3 dimensional box that is assigned the material parameters. Click the 3D box icon in the top left corner. The diminsions of the box do not matter when you draw it. "
   ]
  },
  {
   "attachments": {},
   "cell_type": "markdown",
   "metadata": {
    "scrolled": true
   },
   "source": [
    "<img src=\"https://www.dropbox.com/s/fcp5uph12m0s9nv/Inked1.jpg?raw=1\" />"
   ]
  },
  {
   "cell_type": "markdown",
   "metadata": {},
   "source": [
    "\n",
    "\n",
    "If done correctly, a 3-dimensional box should be drawn on the screen similar to the one below.\n",
    "\n"
   ]
  },
  {
   "attachments": {},
   "cell_type": "markdown",
   "metadata": {
    "scrolled": true
   },
   "source": [
    "<img src=\"https://www.dropbox.com/s/de5pzkmo9o9au4v/2.PNG?raw=1\" />"
   ]
  },
  {
   "cell_type": "markdown",
   "metadata": {},
   "source": [
    "\n",
    "\n",
    "It is time to resize the box to fit the parameters calculated in the design process. **Click on the \"CreateBox\" tab which can be found on the left side menu. **"
   ]
  },
  {
   "attachments": {},
   "cell_type": "markdown",
   "metadata": {},
   "source": [
    "<img src=\"https://www.dropbox.com/s/qokp45c7chlanid/3.PNG?raw=1\" />"
   ]
  },
  {
   "cell_type": "markdown",
   "metadata": {},
   "source": [
    "After clicking \"CreateBox\", a menu will appear where you can insert the dimensions. **It is strongly recommended to use parameterization. This will be very beneficial in complex projects.** Pay close attention to the units and click \"OK\" once all of the parameters have been inputed. "
   ]
  },
  {
   "attachments": {},
   "cell_type": "markdown",
   "metadata": {},
   "source": [
    "<img src=\"https://www.dropbox.com/s/i3ddfobff21q1n1/4.PNG?raw=1\" />"
   ]
  },
  {
   "cell_type": "markdown",
   "metadata": {},
   "source": [
    "### Add material properties\n",
    "\n",
    "Currently the box has no material properties. We must add the substrate characteristics. **To do this, Click on \"Box1\" which is right above \"CreateBox\" used in the previous step. Select the value for the Material section and choose \"edit\". After doing this, any substrate material can be chosen for the box.** In this example I am using FR4 Epoxy. Select the desired substrate and choose \"OK\". If done correctly, the \"Box1\" screen should look like this. "
   ]
  },
  {
   "attachments": {},
   "cell_type": "markdown",
   "metadata": {},
   "source": [
    "<img src=\"https://www.dropbox.com/s/j3z7uzk1gsrf3a5/5.PNG?raw=1\" />"
   ]
  },
  {
   "cell_type": "markdown",
   "metadata": {},
   "source": [
    "## 3. Add a Radiation Boundary\n",
    "\n",
    "### Create a new box\n",
    "\n",
    "HFSS uses radiation boundries to emulate free space in a finite calculation. To do this, create another box using the same steps with the same X and Y dimensions. **For the Z (height) dimension, make it much taller than the substrate.** In my example I chose 300 mil for my height.\n",
    "\n",
    "### Transparency \n",
    "\n",
    "In order to distingiush a difference between our two boxes, we need to make our new box transparent. **Highlight \"Box2\" in order to have the properties window appear in the bottom left corner. Click on the \"Transparent\" tab and select a value.** I recommend somewhere around 0.8. "
   ]
  },
  {
   "cell_type": "markdown",
   "metadata": {},
   "source": [
    "If these steps are done correctly, the two boxes should look similar to this. "
   ]
  },
  {
   "attachments": {},
   "cell_type": "markdown",
   "metadata": {
    "scrolled": true
   },
   "source": [
    "<img src=\"https://www.dropbox.com/s/vho3w1xco9q358d/7.PNG?raw=1\" />"
   ]
  },
  {
   "cell_type": "markdown",
   "metadata": {},
   "source": [
    "### Assign Radiation Boundary\n",
    "\n",
    "Like our substrate, our new radiation box currently has no properties at the moment. We must add the properties to the box. **To do this, right click on \"Box2\", go to \"Assign Boundary\", and select \"radiation...\".** The name does not matter. "
   ]
  },
  {
   "attachments": {},
   "cell_type": "markdown",
   "metadata": {
    "scrolled": true
   },
   "source": [
    "<img src=\"https://www.dropbox.com/s/6bxwrsn4hj5hdao/Inked7.5.jpg?raw=1\" />"
   ]
  },
  {
   "cell_type": "markdown",
   "metadata": {},
   "source": [
    "## 4. Add Circuit Design \n",
    "\n",
    "### Create a rectangular sheet\n",
    "\n",
    "The next step is to add our circuit design to the substrate. In this example I will be adding a simple microstrip line. To do this, select the rectangle box shown below. "
   ]
  },
  {
   "attachments": {},
   "cell_type": "markdown",
   "metadata": {},
   "source": [
    "<img src=\"https://www.dropbox.com/s/57thkuemsxtsj5t/sheet%20button.PNG?raw=1\" />"
   ]
  },
  {
   "cell_type": "markdown",
   "metadata": {},
   "source": [
    "This button will allow you to draw a 2-dimensional rectangle on screen. **From here, the steps of changing the dimensions of the sheet are the same for the 3-dimensional boxes created earlier.** Be cautious when editing the height position of the sheet. *My height position is 62 mil because I want the sheet to sit on top of the substrate.*"
   ]
  },
  {
   "attachments": {},
   "cell_type": "markdown",
   "metadata": {
    "scrolled": true
   },
   "source": [
    "<img src=\"https://www.dropbox.com/s/g6km0bli563z1w4/8.PNG?raw=1\" />"
   ]
  },
  {
   "cell_type": "markdown",
   "metadata": {},
   "source": [
    "### Assign Finite Conductivity\n",
    "\n",
    "We need to assign a finite conductivity to the sheet so it will behave like Copper. **To do this, right click on \"Rectangle1\", go to \"Assign Boundary\", and select \"Finite Conductivity...\".** Copper is the default setup and no adjustments are needed. "
   ]
  },
  {
   "attachments": {},
   "cell_type": "markdown",
   "metadata": {
    "scrolled": true
   },
   "source": [
    "<img src=\"https://www.dropbox.com/s/6i2544oldzncbz4/8.5.png?raw=1\" />"
   ]
  },
  {
   "cell_type": "markdown",
   "metadata": {},
   "source": [
    "## 5. Waveports\n",
    "\n",
    "### Design Considerations\n",
    "\n",
    "We are very close to a basic HFSS design! The next step will be to create waveports. **We will need to add another rectanuglar sheet and create the appropriate dimensions.** You must have your waveport cover the height of the substrate!\n",
    "\n",
    "**If substrate width > height:** waveport width_ = 10*(strip width) and waveport height = 6*h to 10*h\n",
    "\n",
    "**If substrate width < height:** waveport width = 5*(strip width) and waveport height = 3*h to 4*h\n",
    "\n",
    "\n",
    "Pay close attention to the axis orientation. In my design I have my waveport sheet oriented on the X axis. Because my device is a two-port network, I have included two waveports. If done correctly, it should look similar to this. "
   ]
  },
  {
   "attachments": {},
   "cell_type": "markdown",
   "metadata": {
    "scrolled": true
   },
   "source": [
    "<img src=\"https://www.dropbox.com/s/yj4etuuygmgcjb5/Screenshot%20%287%29.png?raw=1\" />"
   ]
  },
  {
   "cell_type": "markdown",
   "metadata": {},
   "source": [
    "### Add Waveport Excitation\n",
    "\n",
    "Currently the port has no waveport properties. To add those properties, right click on \"Rectangle2\", go to \"Assign Excitation\", and select \"Wave Port...\". Follow the steps and do not change any parameters. "
   ]
  },
  {
   "attachments": {},
   "cell_type": "markdown",
   "metadata": {
    "scrolled": true
   },
   "source": [
    "<img src=\"https://www.dropbox.com/s/ivoef9h3eiuo3f2/Screenshot%20%288%29.png?raw=1\" />"
   ]
  },
  {
   "cell_type": "markdown",
   "metadata": {},
   "source": [
    "## 5. Analysis and Solution Setup\n",
    "\n",
    "### Solution Setup"
   ]
  },
  {
   "attachments": {},
   "cell_type": "markdown",
   "metadata": {
    "scrolled": true
   },
   "source": [
    "<img src=\"https://www.dropbox.com/s/3zfyk3gzqs8oti4/Screenshot%20%289%29.png?raw=1\" />"
   ]
  },
  {
   "cell_type": "markdown",
   "metadata": {},
   "source": [
    "When you select \"Add Soution Setup\", **the only parameter that needs to be changed is the frequency.** Input the frequency that the circuit was design for and select \"OK\"."
   ]
  },
  {
   "cell_type": "markdown",
   "metadata": {},
   "source": [
    "### Add Frequency Sweep\n",
    "\n",
    "After adding an analysis, we must add a frequency sweep. To do this, right click on \"Setup1\" and select \"Add Frequency Sweep\"."
   ]
  },
  {
   "attachments": {},
   "cell_type": "markdown",
   "metadata": {
    "scrolled": true
   },
   "source": [
    "<img src=\"https://www.dropbox.com/s/xwh9u1x0wu8km0b/Screenshot%20%2810%29.png?raw=1\" />"
   ]
  },
  {
   "cell_type": "markdown",
   "metadata": {},
   "source": [
    "**Choose the frequency range you would like the sweep to cover and the number of points in the sweep.** More points will give you a more precise scan, but will also be harder for HFSS to solve. "
   ]
  },
  {
   "attachments": {},
   "cell_type": "markdown",
   "metadata": {
    "scrolled": true
   },
   "source": [
    "<img src=\"https://www.dropbox.com/s/9oda76psi7a4gap/13.PNG?raw=1\" />"
   ]
  },
  {
   "cell_type": "markdown",
   "metadata": {},
   "source": [
    "If done correctly, your screen should look like this. "
   ]
  },
  {
   "attachments": {},
   "cell_type": "markdown",
   "metadata": {
    "scrolled": true
   },
   "source": [
    "<img src=\"https://www.dropbox.com/s/4vmr8lo1o7akvjm/14.PNG?raw=1\" />"
   ]
  },
  {
   "cell_type": "markdown",
   "metadata": {},
   "source": [
    "### Design Validation\n",
    "\n",
    "HFSS has a built in validation service to help keep your designs on track. Before running an analysis, it is highly recommended to check your design using the icon below. "
   ]
  },
  {
   "attachments": {},
   "cell_type": "markdown",
   "metadata": {},
   "source": [
    "<img src=\"https://www.dropbox.com/s/l15dhlaeey9ehem/15.PNG?raw=1\" />"
   ]
  },
  {
   "cell_type": "markdown",
   "metadata": {},
   "source": [
    "### Add plots\n",
    "\n",
    "The last step is to add a plot for the analysis to print the results to. To do this, Right click on \"Results\", go to \"Create Modal Solution Data Report\", and select \"rectangular Plot\". "
   ]
  },
  {
   "attachments": {},
   "cell_type": "markdown",
   "metadata": {
    "scrolled": true
   },
   "source": [
    "<img src=\"https://www.dropbox.com/s/0tazmsscs1un2zy/Screenshot%20%2811%29.png?raw=1\" />"
   ]
  },
  {
   "cell_type": "markdown",
   "metadata": {},
   "source": [
    "For this example, I am create a S(2,1) plot in dB's."
   ]
  },
  {
   "attachments": {},
   "cell_type": "markdown",
   "metadata": {
    "scrolled": true
   },
   "source": [
    "<img src=\"https://www.dropbox.com/s/84usdn3u9sbum6h/16.PNG?raw=1\" />"
   ]
  },
  {
   "cell_type": "markdown",
   "metadata": {},
   "source": [
    "After finishing this, it is time to analyze the HFSS design. This may take several moments. "
   ]
  },
  {
   "attachments": {},
   "cell_type": "markdown",
   "metadata": {
    "scrolled": true
   },
   "source": [
    "<img src=\"https://www.dropbox.com/s/7rqu4vq0rlqls6w/Screenshot%20%2812%29.png?raw=1\" />"
   ]
  },
  {
   "cell_type": "markdown",
   "metadata": {},
   "source": [
    "Here is an example S parameter output result"
   ]
  },
  {
   "attachments": {},
   "cell_type": "markdown",
   "metadata": {
    "scrolled": true
   },
   "source": [
    "<img src=\"https://www.dropbox.com/s/c17fful3inmi74j/17.PNG?raw=1\" />"
   ]
  },
  {
   "cell_type": "markdown",
   "metadata": {
    "collapsed": true
   },
   "source": [
    "## Adding Electric Field Patterns\n",
    "\n",
    "Analyzing the electric field patterns in HFSS is a very powerful tool that should always be utilized. HFSS allows animation over a range of phases displaying their respective electric fields. \n",
    "\n",
    "First, **highlight the ground plane or the Global:XY plane under the Planes tab.** Then plot a Mag_E field as shown in the figure below. You do not need to change any settings.\n",
    "\n",
    "**Note: This step is shown using a patch antenna structure. Not the structure used in the tutorials above!**"
   ]
  },
  {
   "attachments": {},
   "cell_type": "markdown",
   "metadata": {},
   "source": [
    "<img src=\"https://www.dropbox.com/s/myeq00jh7yd0qn2/Efielfadfdfsd.png?raw=1\" />"
   ]
  },
  {
   "cell_type": "markdown",
   "metadata": {},
   "source": [
    "### Add Animation\n",
    "\n",
    "Next we will add the animation to our new electric field plot. To do so, **right click on \"Mag 1\" under E Field and choose animate.\"** Select the new tab on the animation menu and make sure it is set to animate over phase. "
   ]
  },
  {
   "attachments": {},
   "cell_type": "markdown",
   "metadata": {},
   "source": [
    "<img src=\"https://www.dropbox.com/s/ca7sv9d15eicixm/Efield.PNG?raw=1\" />"
   ]
  },
  {
   "cell_type": "markdown",
   "metadata": {},
   "source": [
    "These are the basic steps nescessary in order to take advantage of the powerful design tool, HFSS by Ansys."
   ]
  },
  {
   "cell_type": "markdown",
   "metadata": {
    "collapsed": true
   },
   "source": [
    "## Learning more\n",
    "\n",
    "The techniques taught above are not everything you will need for every HFSS design you create. HFSS has a ton of powerful features and design tools that go beyond the scope of this lab. You should always be exploring different methods to accomplish a design if the techniques above are not quite right. There are resources on HFSS available online!"
   ]
  }
 ],
 "metadata": {
  "kernelspec": {
   "display_name": "Python 3",
   "language": "python",
   "name": "python3"
  },
  "language_info": {
   "codemirror_mode": {
    "name": "ipython",
    "version": 3
   },
   "file_extension": ".py",
   "mimetype": "text/x-python",
   "name": "python",
   "nbconvert_exporter": "python",
   "pygments_lexer": "ipython3",
   "version": "3.6.1"
  }
 },
 "nbformat": 4,
 "nbformat_minor": 2
}
