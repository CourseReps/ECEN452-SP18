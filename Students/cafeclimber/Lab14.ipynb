{
 "cells": [
  {
   "cell_type": "markdown",
   "metadata": {},
   "source": [
    "# Lab 14 - Free Space Material and Frequency Selective Surface Characterization"
   ]
  },
  {
   "cell_type": "markdown",
   "metadata": {},
   "source": [
    "## Contents\n",
    "\n",
    "1. [Background](#1.-Background)\n",
    "    1. [Frequency Selective Surfaces](#A.-Frequency-Selective-Surfaces)\n",
    "1. [Free Space Material Characterization](#2.-Free-Space-Material-Characterization)\n",
    "1. [Frequency Selective Surface Modeling](#3.-Frequency-Selective-Surface-Modeling)\n",
    "    1. [Creating the Model](#A.-Creating-the-Model)\n",
    "    1. [Setting up and running the simulation](#B.-Setting-up-and-running-the-simulation)\n",
    "1. [Frequency Selective Surface Characterization](#4.-Frequency-Selective-Surface-Characterization)\n",
    "\n",
    "#### Note: All examples files can be found in the GitHub repository for this lab\n",
    "#### Note: The examples and instructions for this lab use ANSYS Electronics Desktop 19"
   ]
  },
  {
   "cell_type": "markdown",
   "metadata": {},
   "source": [
    "## 1. Background\n",
    "\n",
    "### A. Frequency Selective Surfaces\n",
    "\"A **frequency-selective surface (FSS)** is any thin, repetitive surface (such as the screen on a microwave oven) designed to reflect, transmit, or absorb electromagnetic fields based on the frequency of the field.\""
   ]
  },
  {
   "cell_type": "markdown",
   "metadata": {},
   "source": [
    "## 2. Free Space Material Characterization"
   ]
  },
  {
   "cell_type": "markdown",
   "metadata": {},
   "source": [
    "## 3. Frequency Selective Surface Modeling\n",
    "\n",
    "### A. Creating the Model\n",
    "For this example, our FSS will utilize a Smith Chart shaped unit element, and we will examine both a band-pass and a band-stop design.\n",
    "\n",
    "To begin, open ANSYS Electronics Desktop, create a new project, and insert a new HFSS design. We'll call this project \"Lab14,\" and the HFSS design \"SmithChart\". Click \"HFSS\" on the menu bar and select \"Solution Type.\" Ensure it is set to \"Modal\"\n",
    "\n",
    "![Open HFSS](img/fresh_hfss.png)\n",
    "\n",
    "Holding alt, double-click on the z-axis to get a \"top-down\" view. Using polylines, polyarcs, and unite, draw the Smith Chart. This is left as an exercise to the reader. As always, use variables throughout your project. I baked this one earlier:\n",
    "\n",
    "![Smith Chart Surface](img/smith_chart.png)\n",
    "\n",
    "Assign the Smith Chart a finite conductivity. We will eventually be milling this design out on 10mil Rogers RT/Duroid 5880, so we add a hexagon of this material to finish defining the structure of our \"unit-cell.\" The hexagon was created by drawing a hexagon with the line tool, then using **draw->sweep->along vector** centered at 0,0,0 with a sweep vector of 0,0,sub_h where sub_h is 10mil. As usual, choose good names. The substrate can be made transparent to more easily differentiate it from the hexagon.\n",
    "\n",
    "![Add Substrate](img/substrate.png)\n",
    "\n",
    "Next, add the boundary for simulation. To do this, I did the following steps:\n",
    "\n",
    "1. Duplicate the substrate from the previous step\n",
    "1. Change the \"sweep along vector\" z component to some large multiple of the substrate height (I used 100)\n",
    "1. Change the z component of each of the lines which make up the polygon by expanding the \"CreatePolyline\" node in the model tree viewer, and clicking through each of the \"CreateLine\"s. To center the boundary on the sheet, change each z component to -1/2 of the total height of the boundary\n",
    "\n",
    "![Add Boundary](img/boundary.png)\n",
    "\n",
    "### B. Setting up and running the simulation\n",
    "After the model is done, it's time to set up the simulation. Begin by first assigning master and slave boundaries. These determine how the geometry is duplicated and turned in to an infinite sheet during simulation. To do this, press **f** to change to \"Select Faces\" mode. Then click on any of the faces of the hexagonal boundaries to select it as shown below.\n",
    "\n",
    "![Select Face](img/select_face.png)\n",
    "\n",
    "Then right click, on the face and navigate to **Assign Boundary -> Master**. This will bring up a dialog box.\n",
    "\n",
    "![Master Dialog](img/master_dialog.png)\n",
    "\n",
    "Click the dropdown for the \"U Vector\" and select \"New Vector...\". You will then click on one of the bottom corners of the face, then the corner on the opposite side of the bottom face. The blue V Vector should be oriented in the positive z-direction for the first Master. If it is pointed in the negative z-direction, simply check \"Reverse Direction\". After you've finished, it should look like the figure below (ignore the boundary on the right side. It is the slave which we will take care of in the next step)\n",
    "\n",
    "![Master Boundary](img/master_boundary.png)\n",
    "\n",
    "Now we will assign the slave in a very similar way. Select the opposite face, then right click and navigate to **Assign Boundary -> Slave**. In the dialog box, choose Master 1 as the \"Master Boundary\"  When done, just make sure the U and V vectors are pointing in the same direction as shown in the figure above.\n",
    "\n",
    "Work your way around the hexagonal boundary until you have three masters and three slaves. The correct orientation of the U and V vectors for the remaining 2 faces are shown below.\n",
    "\n",
    "![Master 2](img/master_2.png)\n",
    "![Master 3](img/master_3.png)\n",
    "\n",
    "Next you must assign the Floquet Ports. To start, select the top face, then use the menu bar to navigate to **HFSS -> Excitations -> Assign -> Floquet Port** Like you did for the vectors in the Master/Slave boundaries, assign vectors to the A and B direction to match the figure.\n",
    "\n",
    "![Floquet Port](img/floquet_port.png)\n",
    "\n",
    "Click next to see the modes. For this simulation, we will look at 5 modes. Click \"Modes Calculator...\" and make it match the below figure.\n",
    "\n",
    "![Modes Calculator](img/modes_calculator.png)\n",
    "\n",
    "Click next to go to the post processing. If necessary, we can deembed down to the surface of the FSS but we will not do that here. Click next again, then click \"Finish\".\n",
    "\n",
    "Now we will setup the frequency sweep. Right-click analysis in the Project Manager. Set the following properties:\n",
    "\n",
    "![Solution Setup General](img/solution_setup_general.png)\n",
    "![Solution Setup Options](img/solution_setup_options.png)\n",
    "\n",
    "Right click on your setup, then change your frequency sweep to the match the following\n",
    "\n",
    "![Frequency Sweep](img/frequency_sweep.png)\n",
    "\n",
    "Click the \"Interpolation\" and change \"Max Solutions\" to 50 and \"Error Tolerance\" to 0.5%. Click \"Advanced Options...\" and change your options to match the following figure. Also click \"Select Entries...\" and ensure both \"Entry Selection\" and \"Mode Selection\" are both set to all, then set FloquetPort2:1,FloquetPort1:1 to ON\n",
    "\n",
    "![Interpolation](img/interpolation.png)\n",
    "![Interpolation Selection](img/interpolation_selection.png)\n",
    "\n",
    "Now click on the \"Simulation\" tab in HFSS, then click Validate to ensure your setup is good. Finally, Click \"Analyze All\" to begin the simulation.\n",
    "\n",
    "When the simulation is finished, right click on results and select **Create Modal Solution Data Report -> Rectangular Plot** \n",
    "\n",
    "Add \"S Parameter\", \"S(FloquetPort2:1,FloquetPort1:1)\", \"dB\" to see S21 for the surface.\n",
    "\n",
    "If any of the steps are unclear, take a look at the __[accompanying literature](http://www.1cae.com/articleAccessory/2017/04/16/HFSS%20Floquet%20Ports.pdf)__\n",
    "\n",
    "### C. Results\n",
    "These are some results taken after tweaking the parameters of the sweep and the smith chart structure.\n"
   ]
  },
  {
   "cell_type": "markdown",
   "metadata": {},
   "source": [
    "## 4. Frequency Selective Surface Characterization"
   ]
  },
  {
   "cell_type": "code",
   "execution_count": null,
   "metadata": {},
   "outputs": [],
   "source": []
  }
 ],
 "metadata": {
  "kernelspec": {
   "display_name": "Python 3",
   "language": "python",
   "name": "python3"
  },
  "language_info": {
   "codemirror_mode": {
    "name": "ipython",
    "version": 3
   },
   "file_extension": ".py",
   "mimetype": "text/x-python",
   "name": "python",
   "nbconvert_exporter": "python",
   "pygments_lexer": "ipython3",
   "version": "3.6.4"
  }
 },
 "nbformat": 4,
 "nbformat_minor": 2
}
