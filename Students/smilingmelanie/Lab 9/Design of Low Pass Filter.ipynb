{
 "cells": [
  {
   "cell_type": "markdown",
   "metadata": {},
   "source": [
    "# Design of Low Pass Filter\n",
    "This lab follows the design of a low pass filter implemented in ANSYS circuit simulator. After verification of the design, parameters are transferred to be implemented into HFSS for further simulation preceding fabrication. The first design implements a maximally flat low-pass filter with a cutoff frequency of 2.5GHz and minimum attenuation of 10dB at 3.25 GHz. This particular design will be implemented in microstrip using a charcateristic impedance of 50 ohms so that it could be fabricated on a 62 mil thick FR4 substrate.\n",
    "\n",
    "### Step 1 (Calulate the filter order N)\n",
    "Using the formula and the charts below, the order N of the filter is calculated. <img src=\"formula1.png\" width=\"40%\">\n",
    "Using our design parameters:\n",
    "<img src=\"form1.png\" width=\"40%\">\n",
    "<img src=\"figure2.png\" width=\"40%\">\n",
    "The result was plotted on the graphat (0.3,10 dB attenuation). This lands us right on the n=5 line, meaning we need to implement a 5th order filter.The order chosen on the graph determines the number of capacitors and inductors in the prototype network. Choosing a 5th order filter means that the ladder network will have five-elements: three capacitors with 2 inductors.\n",
    "<img src=\"Ladder1.png\" width=\"40%\">\n",
    "\n",
    "You will normalize the values for the circuit elements using the following Butterworth Filter Protocol.\n",
    "<img src=\"figure3.png\" width=\"40%\">\n",
    "### Step 2 (Design the LC circuit)\n",
    "Now it is time to assemble the LC ladder network in the ANSYS circuit simulator. For this particular case, there were N=5 filter coefficients. \n",
    "The LC network can be simplified using the table below (This was taken from the table above, in the Butterworth Filter Protocol): <img src=\"figure5.png\" width=\"40%\"> After performing the appropriate impedance and frequency scaling on the lumped elements, it is ready to be implemented into ANSYS: <img src=\"figure4.png\" width=\"40%\"> By looking at the plots of magnitude and phase, the design can be verified accordingly.\n",
    "### Step 3 (Moving from an LC circuit to Stubs)\n",
    "Capacitors will be converted into open circuit stubs and the inductors will be converted into short circuit stubs using Richard's transformation: <img src=\"figure6.png\" width=\"40%\">\n",
    "Richard's transformations are used to transform the ladder network into a Transmission Line equivalent. In this proccess, you replace capacitors and inductors with an eight-wave open circuit and short-circuit stubs. The chracteristic impedance of the stubs are based on the values of the capacitor/inductors that each stub will replace.\n",
    "<img src=\"Eq1.png\" width=\"40%\">\n",
    "\n",
    "### Step 4 Kuroda's identities\n",
    "Kuroda's identities are essential for conversion of series stubs to shunt stubs. This step transforms the series stubs into shunt stubs for implementation in a transmission line. These identities also allow for stubs to be physically seperated from eachother (minimizing coupling between elements). Thankfully, this isn't too bad because of symmetry. It is only neccessary to transform one side then apply to the other. Beginning at the load/source, solve towards the center element (which in this case is a shunt open-circuit stub, so it will remain as is).\n",
    "<img src=\"Eq2.png\" width=\"40%\">\n",
    "##### Step A: \n",
    "Unit elements ue1 and ue2 are inserted on the source/loads of the circuit to seperate z1 from z2 and z5 from z4.\n",
    "\n",
    "<img src=\"figurec.png\" width=\"40%\">\n",
    "##### Step B: \n",
    "Now, unit elements ue3 and ue4 are inserted on the source/loads of the circuit. This is replicated the previous proccess to first seperate z2 from z3 and z4 from z3. This will also seperate z4 from z5 and z1 from z2. This proccess converts z1,z2,z4, and z5 into shunt open-circuit stubs.\n",
    "<img src=\"figured.png\" width=\"40%\">\n",
    "##### Step C: \n",
    "Once again, we perform impedance scaling for the transmission line. \n",
    "<img src=\"figuree.png\" width=\"40%\">\n",
    "\n",
    "After a sequential proccess of conversion and scaling, the design in ANSYS circuit simulator looks like this:\n",
    "<img src=\"LPFSTUB.png\" width=\"40%\">\n",
    "Wow! Look at that symmetry! Once again, verify results on the magnitude and phase plots. Once the stubs are seperated, the impedances are scaled by the impedance of the feed line (50 ohm) and the width of the microstrip line for FR4 is calculated.\n",
    "#### Verification of results:\n",
    "By right clicking analysis on your circuit simualtions, you can extract the .sNp files from your simulations. Plot all of these in python simulataneously using scikitrf to verify.\n",
    "<img src=\"LPF_magnitude.png\" width=\"40%\">\n",
    "This is the measured phase of the Low Pass Filter on FR4. In this particular result, the cutoff frequency was approximately 2.5 and the isolation frequency around 3.25. Verifying our design, the frequency-magnitude response of the filter is representative of maximally flat low-pass filter behavior. Again, based off slight variations in initial calculations, the location of the 3dB frequency and the 10dB frequency can vary. The objective is to design so you can be as accurate as possible to the desired paramters.\n",
    "<img src=\"LPFfigures.png\" width=\"40%\">\n",
    "Comparing both the Stub version and the LC netwrok of the same design, both look relatively similar in response. This is verification that you are going in the right direction in your design. Although variations can come due to calculation differences, this check ensures consistency.\n",
    "\n",
    "### Step 5: Implement in HFSS\n",
    "After converting the design from LC to stub in Ansys and verifying results, it is now time to implement the design in HFSS! \n",
    "In doing so, there are a couple of things to keep in mind: it is a MUST that your design/simulation parameters remain the same as in ANSYS so that you have multiple sources of verification.\n",
    "##### HFSS Considerations\n",
    "- Substrate : FR4_epoxy\n",
    "- Microstrip: Copper (Finite Conductivity Sheets)\n",
    "- Boundary: Vaccum\n",
    "<img src=\"figure_lowpass_stub.png\" width=\"40%\">\n",
    "### Verified?\n",
    "There is a cutoff frequency of 2.5GHz and minimum attenuation of 10dB at 3.25 GHz. This is pretty good in simulation. The challenge comes with fabrication. BE SURE TO USE CAUTION. In this particular example, the parameters used for stub lengths were very small. In fabrication, there are physical limitations of the milling machine. Be sure that the measurements you obtain prove realistic for physical fabrication.\n",
    "<img src=\"LPF_results.png\" width=\"40%\">\n",
    "\n",
    "###### Sources \n",
    " - Dr. Huff ECEN 425 \n",
    " - http://course.ee.ust.hk/elec344/lect31.pdf)\n"
   ]
  },
  {
   "cell_type": "code",
   "execution_count": null,
   "metadata": {
    "collapsed": true
   },
   "outputs": [],
   "source": []
  },
  {
   "cell_type": "code",
   "execution_count": null,
   "metadata": {
    "collapsed": true
   },
   "outputs": [],
   "source": []
  },
  {
   "cell_type": "code",
   "execution_count": null,
   "metadata": {
    "collapsed": true
   },
   "outputs": [],
   "source": []
  },
  {
   "cell_type": "code",
   "execution_count": null,
   "metadata": {
    "collapsed": true
   },
   "outputs": [],
   "source": []
  }
 ],
 "metadata": {
  "kernelspec": {
   "display_name": "Python 3",
   "language": "python",
   "name": "python3"
  },
  "language_info": {
   "codemirror_mode": {
    "name": "ipython",
    "version": 3
   },
   "file_extension": ".py",
   "mimetype": "text/x-python",
   "name": "python",
   "nbconvert_exporter": "python",
   "pygments_lexer": "ipython3",
   "version": "3.6.3"
  }
 },
 "nbformat": 4,
 "nbformat_minor": 2
}
